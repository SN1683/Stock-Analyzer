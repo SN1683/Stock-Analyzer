{
 "cells": [
  {
   "cell_type": "markdown",
   "metadata": {},
   "source": [
    "# Predicting the price of a stock using Machine Learning Algorithms\n",
    "\n",
    "The goal of this project is to use a variety of past data about lots of stocks on the US New York Stock Exchange in order to be able to predict their future price. The results of this model could, for example, be combined with those of other analyses, perhaps by human analysts, to determine the investing strategy of a financial enterprise. For example, if our model predicted a price different to the actual price of a stock on the market, this could suggest that the stock is either undervalued or overvalued, and help a company cash in before a bubble bursts or jump onto a promising stock before the rest of the market realizes its potential - either way benefitting.\n"
   ]
  },
  {
   "cell_type": "markdown",
   "metadata": {},
   "source": [
    "# Overview\n",
    "\n",
    "The project will have the following structure\n",
    "\n",
    "* Problem Definition\n",
    "* Imports and Functions\n",
    "* Data (importing and exploring)\n",
    "* Training models\n",
    "* Improving the models\n",
    "* Evaluating the models\n",
    "* Investigating the importance of the various features of the data\n",
    "* Conclusion"
   ]
  },
  {
   "cell_type": "markdown",
   "metadata": {},
   "source": [
    "# 1. Problem Definition"
   ]
  },
  {
   "cell_type": "markdown",
   "metadata": {},
   "source": [
    "This is a regression problem, so we will be testing out a few different regression ML models, and seeing which one performs the best. The idea behind this project is for the model to go over many of the metrics of the fundamental value of a stock, and from this attempt to predict what its price will be in the future. This is very much a fundamentalist approach to stock analysis - looking at various metrics about the company and trying to extrapolate from there, as opposed to ideas like momentum investing or even a chartist approach. However, in the long term, fundamentals are likely to win out over these methods, which are by their nature more short term and better for high-frequency day traders. "
   ]
  },
  {
   "cell_type": "markdown",
   "metadata": {},
   "source": [
    "# 2. Imports and Functions"
   ]
  },
  {
   "cell_type": "markdown",
   "metadata": {},
   "source": [
    "## 2.1. Imports"
   ]
  },
  {
   "cell_type": "markdown",
   "metadata": {},
   "source": [
    "Here, we are first going to import all the useful packages we will probably need during this project"
   ]
  },
  {
   "cell_type": "code",
   "execution_count": 187,
   "metadata": {},
   "outputs": [],
   "source": [
    "import pandas as pd\n",
    "import numpy as np\n",
    "import matplotlib.pyplot as plt\n",
    "from sklearn.model_selection import train_test_split, GridSearchCV\n",
    "from sklearn.ensemble import RandomForestRegressor\n",
    "from sklearn.linear_model import Ridge\n",
    "from sklearn.linear_model import Lasso\n",
    "from sklearn.metrics import mean_squared_error, r2_score"
   ]
  },
  {
   "cell_type": "markdown",
   "metadata": {},
   "source": [
    "## 2.2. Functions"
   ]
  },
  {
   "cell_type": "markdown",
   "metadata": {},
   "source": [
    "There are probably going to be things we do multiple times over the course of this project. Rather than rewriting the code, I thought it made sense to create a section for functions right at the top. This will save us a lot of time not having to rewrite code, and having all the functions in one place at the top of the notebook means they can be easily accessed and consulted."
   ]
  },
  {
   "cell_type": "markdown",
   "metadata": {},
   "source": [
    "This first function lets us quickly evaluate our model on two common metrics"
   ]
  },
  {
   "cell_type": "code",
   "execution_count": 96,
   "metadata": {},
   "outputs": [],
   "source": [
    "def show_scores(model, X_train, X_val, y_train, y_val):\n",
    "    # predict on train and validation data\n",
    "    train_predictions = model.predict(X_train)\n",
    "    val_predictions = model.predict(X_val)\n",
    "    # return a dictionary comparing predictions and true values\n",
    "    scores = {\"Training RMSE\": mean_squared_error(y_train, train_predictions, squared=False),\n",
    "              \"Valid RMSE\": mean_squared_error(y_val, val_predictions, squared=False),\n",
    "              \"Training R^2\": r2_score(y_train, train_predictions),\n",
    "              \"Valid R^2\": r2_score(y_val, val_predictions)}\n",
    "    return scores"
   ]
  },
  {
   "cell_type": "markdown",
   "metadata": {},
   "source": [
    "This function plots our feature importances."
   ]
  },
  {
   "cell_type": "code",
   "execution_count": 163,
   "metadata": {},
   "outputs": [],
   "source": [
    "def plot_features(columns, importances, n=10): # only plot top ten features\n",
    "    # create a dataframe to plot\n",
    "    df = (pd.DataFrame({\"features\": columns,\n",
    "                        \"feature_importances\": importances})\n",
    "          # sort in order of importance\n",
    "          .sort_values(\"feature_importances\", ascending=False)\n",
    "          .reset_index(drop=True))\n",
    "    \n",
    "    # Plot the dataframe\n",
    "    fig, ax = plt.subplots()\n",
    "    # a horizontal bar chart is more visual and easy to understand here\n",
    "    ax.barh(df[\"features\"][:n], df[\"feature_importances\"][:10])\n",
    "    ax.set_ylabel(\"Features\")\n",
    "    ax.set_xlabel(\"Feature importance\")\n",
    "    ax.invert_yaxis()"
   ]
  },
  {
   "cell_type": "markdown",
   "metadata": {},
   "source": [
    "# 3. Data"
   ]
  },
  {
   "cell_type": "markdown",
   "metadata": {},
   "source": [
    "## 3.1. Importing Data"
   ]
  },
  {
   "cell_type": "markdown",
   "metadata": {},
   "source": [
    "The data used is imported from Kaggle - https://www.kaggle.com/dgawlik/nyse. \n",
    "This data is for the New York Stock Exchange, and consists of three datasets - fundamental value metrics, prices and volume, and ticker explanations. We will train our model on the fundamentals dataset. Companies generally release all this data around the same time each year, so we will add a target column to our fundamentals dataset that gives the price from the year the fundamental data was obtained. This will allow us to judge whether our model is accurately predicting price from fundamentals. "
   ]
  },
  {
   "cell_type": "code",
   "execution_count": 2,
   "metadata": {},
   "outputs": [],
   "source": [
    "# Import fundamentals dataset\n",
    "fundamentals_original = pd.read_csv(\"fundamentals.csv\", parse_dates=[\"Period Ending\"])\n",
    "\n",
    "# Let's create a copy to tweak and adjust, so that we don't have to reimport if things go wrong\n",
    "fundamentals = fundamentals_original.copy()\n",
    "\n",
    "# Import prices dataset\n",
    "prices_original = pd.read_csv(\"prices-split-adjusted.csv\")\n",
    "\n",
    "# Do the same thing for the prices\n",
    "prices = prices_original.copy()"
   ]
  },
  {
   "cell_type": "markdown",
   "metadata": {},
   "source": [
    "So since we have some time series data, let's sort the datasets by date"
   ]
  },
  {
   "cell_type": "code",
   "execution_count": 3,
   "metadata": {},
   "outputs": [
    {
     "data": {
      "text/html": [
       "<div>\n",
       "<style scoped>\n",
       "    .dataframe tbody tr th:only-of-type {\n",
       "        vertical-align: middle;\n",
       "    }\n",
       "\n",
       "    .dataframe tbody tr th {\n",
       "        vertical-align: top;\n",
       "    }\n",
       "\n",
       "    .dataframe thead th {\n",
       "        text-align: right;\n",
       "    }\n",
       "</style>\n",
       "<table border=\"1\" class=\"dataframe\">\n",
       "  <thead>\n",
       "    <tr style=\"text-align: right;\">\n",
       "      <th></th>\n",
       "      <th>Unnamed: 0</th>\n",
       "      <th>Ticker Symbol</th>\n",
       "      <th>Period Ending</th>\n",
       "      <th>Accounts Payable</th>\n",
       "      <th>Accounts Receivable</th>\n",
       "      <th>Add'l income/expense items</th>\n",
       "      <th>After Tax ROE</th>\n",
       "      <th>Capital Expenditures</th>\n",
       "      <th>Capital Surplus</th>\n",
       "      <th>Cash Ratio</th>\n",
       "      <th>...</th>\n",
       "      <th>Total Current Assets</th>\n",
       "      <th>Total Current Liabilities</th>\n",
       "      <th>Total Equity</th>\n",
       "      <th>Total Liabilities</th>\n",
       "      <th>Total Liabilities &amp; Equity</th>\n",
       "      <th>Total Revenue</th>\n",
       "      <th>Treasury Stock</th>\n",
       "      <th>For Year</th>\n",
       "      <th>Earnings Per Share</th>\n",
       "      <th>Estimated Shares Outstanding</th>\n",
       "    </tr>\n",
       "  </thead>\n",
       "  <tbody>\n",
       "    <tr>\n",
       "      <th>0</th>\n",
       "      <td>0</td>\n",
       "      <td>AAL</td>\n",
       "      <td>2012-12-31</td>\n",
       "      <td>3.068000e+09</td>\n",
       "      <td>-2.220000e+08</td>\n",
       "      <td>-1.961000e+09</td>\n",
       "      <td>23.0</td>\n",
       "      <td>-1.888000e+09</td>\n",
       "      <td>4.695000e+09</td>\n",
       "      <td>53.0</td>\n",
       "      <td>...</td>\n",
       "      <td>7.072000e+09</td>\n",
       "      <td>9.011000e+09</td>\n",
       "      <td>-7.987000e+09</td>\n",
       "      <td>2.489100e+10</td>\n",
       "      <td>1.690400e+10</td>\n",
       "      <td>2.485500e+10</td>\n",
       "      <td>-3.670000e+08</td>\n",
       "      <td>2012.0</td>\n",
       "      <td>-5.60</td>\n",
       "      <td>3.350000e+08</td>\n",
       "    </tr>\n",
       "    <tr>\n",
       "      <th>1</th>\n",
       "      <td>1</td>\n",
       "      <td>AAL</td>\n",
       "      <td>2013-12-31</td>\n",
       "      <td>4.975000e+09</td>\n",
       "      <td>-9.300000e+07</td>\n",
       "      <td>-2.723000e+09</td>\n",
       "      <td>67.0</td>\n",
       "      <td>-3.114000e+09</td>\n",
       "      <td>1.059200e+10</td>\n",
       "      <td>75.0</td>\n",
       "      <td>...</td>\n",
       "      <td>1.432300e+10</td>\n",
       "      <td>1.380600e+10</td>\n",
       "      <td>-2.731000e+09</td>\n",
       "      <td>4.500900e+10</td>\n",
       "      <td>4.227800e+10</td>\n",
       "      <td>2.674300e+10</td>\n",
       "      <td>0.000000e+00</td>\n",
       "      <td>2013.0</td>\n",
       "      <td>-11.25</td>\n",
       "      <td>1.630222e+08</td>\n",
       "    </tr>\n",
       "    <tr>\n",
       "      <th>2</th>\n",
       "      <td>2</td>\n",
       "      <td>AAL</td>\n",
       "      <td>2014-12-31</td>\n",
       "      <td>4.668000e+09</td>\n",
       "      <td>-1.600000e+08</td>\n",
       "      <td>-1.500000e+08</td>\n",
       "      <td>143.0</td>\n",
       "      <td>-5.311000e+09</td>\n",
       "      <td>1.513500e+10</td>\n",
       "      <td>60.0</td>\n",
       "      <td>...</td>\n",
       "      <td>1.175000e+10</td>\n",
       "      <td>1.340400e+10</td>\n",
       "      <td>2.021000e+09</td>\n",
       "      <td>4.120400e+10</td>\n",
       "      <td>4.322500e+10</td>\n",
       "      <td>4.265000e+10</td>\n",
       "      <td>0.000000e+00</td>\n",
       "      <td>2014.0</td>\n",
       "      <td>4.02</td>\n",
       "      <td>7.169154e+08</td>\n",
       "    </tr>\n",
       "    <tr>\n",
       "      <th>3</th>\n",
       "      <td>3</td>\n",
       "      <td>AAL</td>\n",
       "      <td>2015-12-31</td>\n",
       "      <td>5.102000e+09</td>\n",
       "      <td>3.520000e+08</td>\n",
       "      <td>-7.080000e+08</td>\n",
       "      <td>135.0</td>\n",
       "      <td>-6.151000e+09</td>\n",
       "      <td>1.159100e+10</td>\n",
       "      <td>51.0</td>\n",
       "      <td>...</td>\n",
       "      <td>9.985000e+09</td>\n",
       "      <td>1.360500e+10</td>\n",
       "      <td>5.635000e+09</td>\n",
       "      <td>4.278000e+10</td>\n",
       "      <td>4.841500e+10</td>\n",
       "      <td>4.099000e+10</td>\n",
       "      <td>0.000000e+00</td>\n",
       "      <td>2015.0</td>\n",
       "      <td>11.39</td>\n",
       "      <td>6.681299e+08</td>\n",
       "    </tr>\n",
       "    <tr>\n",
       "      <th>4</th>\n",
       "      <td>4</td>\n",
       "      <td>AAP</td>\n",
       "      <td>2012-12-29</td>\n",
       "      <td>2.409453e+09</td>\n",
       "      <td>-8.948200e+07</td>\n",
       "      <td>6.000000e+05</td>\n",
       "      <td>32.0</td>\n",
       "      <td>-2.711820e+08</td>\n",
       "      <td>5.202150e+08</td>\n",
       "      <td>23.0</td>\n",
       "      <td>...</td>\n",
       "      <td>3.184200e+09</td>\n",
       "      <td>2.559638e+09</td>\n",
       "      <td>1.210694e+09</td>\n",
       "      <td>3.403120e+09</td>\n",
       "      <td>4.613814e+09</td>\n",
       "      <td>6.205003e+09</td>\n",
       "      <td>-2.709500e+07</td>\n",
       "      <td>2012.0</td>\n",
       "      <td>5.29</td>\n",
       "      <td>7.328355e+07</td>\n",
       "    </tr>\n",
       "    <tr>\n",
       "      <th>5</th>\n",
       "      <td>5</td>\n",
       "      <td>AAP</td>\n",
       "      <td>2013-12-28</td>\n",
       "      <td>2.609239e+09</td>\n",
       "      <td>-3.242800e+07</td>\n",
       "      <td>2.698000e+06</td>\n",
       "      <td>26.0</td>\n",
       "      <td>-1.957570e+08</td>\n",
       "      <td>5.312930e+08</td>\n",
       "      <td>40.0</td>\n",
       "      <td>...</td>\n",
       "      <td>3.989384e+09</td>\n",
       "      <td>2.764785e+09</td>\n",
       "      <td>1.516205e+09</td>\n",
       "      <td>4.048569e+09</td>\n",
       "      <td>5.564774e+09</td>\n",
       "      <td>6.493814e+09</td>\n",
       "      <td>-1.078900e+08</td>\n",
       "      <td>2013.0</td>\n",
       "      <td>5.36</td>\n",
       "      <td>7.308918e+07</td>\n",
       "    </tr>\n",
       "    <tr>\n",
       "      <th>6</th>\n",
       "      <td>6</td>\n",
       "      <td>AAP</td>\n",
       "      <td>2015-01-03</td>\n",
       "      <td>3.616038e+09</td>\n",
       "      <td>-4.820900e+07</td>\n",
       "      <td>3.092000e+06</td>\n",
       "      <td>25.0</td>\n",
       "      <td>-2.284460e+08</td>\n",
       "      <td>5.629450e+08</td>\n",
       "      <td>3.0</td>\n",
       "      <td>...</td>\n",
       "      <td>4.741040e+09</td>\n",
       "      <td>3.654416e+09</td>\n",
       "      <td>2.002912e+09</td>\n",
       "      <td>5.959446e+09</td>\n",
       "      <td>7.962358e+09</td>\n",
       "      <td>9.843861e+09</td>\n",
       "      <td>-1.130440e+08</td>\n",
       "      <td>2014.0</td>\n",
       "      <td>6.75</td>\n",
       "      <td>7.315926e+07</td>\n",
       "    </tr>\n",
       "    <tr>\n",
       "      <th>7</th>\n",
       "      <td>7</td>\n",
       "      <td>AAP</td>\n",
       "      <td>2016-01-02</td>\n",
       "      <td>3.757085e+09</td>\n",
       "      <td>-2.147600e+07</td>\n",
       "      <td>-7.484000e+06</td>\n",
       "      <td>19.0</td>\n",
       "      <td>-2.347470e+08</td>\n",
       "      <td>6.033320e+08</td>\n",
       "      <td>2.0</td>\n",
       "      <td>...</td>\n",
       "      <td>4.940746e+09</td>\n",
       "      <td>3.797477e+09</td>\n",
       "      <td>2.460648e+09</td>\n",
       "      <td>5.673917e+09</td>\n",
       "      <td>8.134565e+09</td>\n",
       "      <td>9.737018e+09</td>\n",
       "      <td>-1.197090e+08</td>\n",
       "      <td>2015.0</td>\n",
       "      <td>6.45</td>\n",
       "      <td>7.339504e+07</td>\n",
       "    </tr>\n",
       "    <tr>\n",
       "      <th>8</th>\n",
       "      <td>8</td>\n",
       "      <td>AAPL</td>\n",
       "      <td>2013-09-28</td>\n",
       "      <td>3.622300e+10</td>\n",
       "      <td>-1.949000e+09</td>\n",
       "      <td>1.156000e+09</td>\n",
       "      <td>30.0</td>\n",
       "      <td>-8.165000e+09</td>\n",
       "      <td>0.000000e+00</td>\n",
       "      <td>93.0</td>\n",
       "      <td>...</td>\n",
       "      <td>7.328600e+10</td>\n",
       "      <td>4.365800e+10</td>\n",
       "      <td>1.235490e+11</td>\n",
       "      <td>8.345100e+10</td>\n",
       "      <td>2.070000e+11</td>\n",
       "      <td>1.709100e+11</td>\n",
       "      <td>0.000000e+00</td>\n",
       "      <td>2013.0</td>\n",
       "      <td>40.03</td>\n",
       "      <td>9.252311e+08</td>\n",
       "    </tr>\n",
       "    <tr>\n",
       "      <th>9</th>\n",
       "      <td>9</td>\n",
       "      <td>AAPL</td>\n",
       "      <td>2014-09-27</td>\n",
       "      <td>4.864900e+10</td>\n",
       "      <td>-6.452000e+09</td>\n",
       "      <td>9.800000e+08</td>\n",
       "      <td>35.0</td>\n",
       "      <td>-9.571000e+09</td>\n",
       "      <td>0.000000e+00</td>\n",
       "      <td>40.0</td>\n",
       "      <td>...</td>\n",
       "      <td>6.853100e+10</td>\n",
       "      <td>6.344800e+10</td>\n",
       "      <td>1.115470e+11</td>\n",
       "      <td>1.202920e+11</td>\n",
       "      <td>2.318390e+11</td>\n",
       "      <td>1.827950e+11</td>\n",
       "      <td>0.000000e+00</td>\n",
       "      <td>2014.0</td>\n",
       "      <td>6.49</td>\n",
       "      <td>6.087827e+09</td>\n",
       "    </tr>\n",
       "    <tr>\n",
       "      <th>10</th>\n",
       "      <td>10</td>\n",
       "      <td>AAPL</td>\n",
       "      <td>2015-09-26</td>\n",
       "      <td>6.067100e+10</td>\n",
       "      <td>-3.124000e+09</td>\n",
       "      <td>1.285000e+09</td>\n",
       "      <td>45.0</td>\n",
       "      <td>-1.124700e+10</td>\n",
       "      <td>0.000000e+00</td>\n",
       "      <td>52.0</td>\n",
       "      <td>...</td>\n",
       "      <td>8.937800e+10</td>\n",
       "      <td>8.061000e+10</td>\n",
       "      <td>1.193550e+11</td>\n",
       "      <td>1.709900e+11</td>\n",
       "      <td>2.903450e+11</td>\n",
       "      <td>2.337150e+11</td>\n",
       "      <td>0.000000e+00</td>\n",
       "      <td>2015.0</td>\n",
       "      <td>9.28</td>\n",
       "      <td>5.753664e+09</td>\n",
       "    </tr>\n",
       "    <tr>\n",
       "      <th>11</th>\n",
       "      <td>11</td>\n",
       "      <td>AAPL</td>\n",
       "      <td>2016-09-24</td>\n",
       "      <td>5.932100e+10</td>\n",
       "      <td>1.044000e+09</td>\n",
       "      <td>1.348000e+09</td>\n",
       "      <td>36.0</td>\n",
       "      <td>-1.273400e+10</td>\n",
       "      <td>0.000000e+00</td>\n",
       "      <td>85.0</td>\n",
       "      <td>...</td>\n",
       "      <td>1.068690e+11</td>\n",
       "      <td>7.900600e+10</td>\n",
       "      <td>1.282490e+11</td>\n",
       "      <td>1.934370e+11</td>\n",
       "      <td>3.216860e+11</td>\n",
       "      <td>2.156390e+11</td>\n",
       "      <td>0.000000e+00</td>\n",
       "      <td>2016.0</td>\n",
       "      <td>8.35</td>\n",
       "      <td>5.471497e+09</td>\n",
       "    </tr>\n",
       "    <tr>\n",
       "      <th>15</th>\n",
       "      <td>15</td>\n",
       "      <td>ABBV</td>\n",
       "      <td>2015-12-31</td>\n",
       "      <td>8.463000e+09</td>\n",
       "      <td>-1.076000e+09</td>\n",
       "      <td>-2.060000e+08</td>\n",
       "      <td>130.0</td>\n",
       "      <td>-5.320000e+08</td>\n",
       "      <td>1.308000e+10</td>\n",
       "      <td>77.0</td>\n",
       "      <td>...</td>\n",
       "      <td>1.631400e+10</td>\n",
       "      <td>1.089400e+10</td>\n",
       "      <td>3.945000e+09</td>\n",
       "      <td>4.910500e+10</td>\n",
       "      <td>5.305000e+10</td>\n",
       "      <td>2.285900e+10</td>\n",
       "      <td>-8.839000e+09</td>\n",
       "      <td>2015.0</td>\n",
       "      <td>3.15</td>\n",
       "      <td>1.633016e+09</td>\n",
       "    </tr>\n",
       "    <tr>\n",
       "      <th>14</th>\n",
       "      <td>14</td>\n",
       "      <td>ABBV</td>\n",
       "      <td>2014-12-31</td>\n",
       "      <td>6.954000e+09</td>\n",
       "      <td>-1.720000e+08</td>\n",
       "      <td>-6.510000e+08</td>\n",
       "      <td>102.0</td>\n",
       "      <td>-6.120000e+08</td>\n",
       "      <td>4.194000e+09</td>\n",
       "      <td>74.0</td>\n",
       "      <td>...</td>\n",
       "      <td>1.608100e+10</td>\n",
       "      <td>1.139300e+10</td>\n",
       "      <td>1.742000e+09</td>\n",
       "      <td>2.577100e+10</td>\n",
       "      <td>2.751300e+10</td>\n",
       "      <td>1.996000e+10</td>\n",
       "      <td>-9.720000e+08</td>\n",
       "      <td>2014.0</td>\n",
       "      <td>1.11</td>\n",
       "      <td>1.598198e+09</td>\n",
       "    </tr>\n",
       "    <tr>\n",
       "      <th>12</th>\n",
       "      <td>12</td>\n",
       "      <td>ABBV</td>\n",
       "      <td>2012-12-31</td>\n",
       "      <td>5.734000e+09</td>\n",
       "      <td>2.230000e+08</td>\n",
       "      <td>-8.000000e+06</td>\n",
       "      <td>1507.0</td>\n",
       "      <td>-3.330000e+08</td>\n",
       "      <td>0.000000e+00</td>\n",
       "      <td>118.0</td>\n",
       "      <td>...</td>\n",
       "      <td>1.535400e+10</td>\n",
       "      <td>6.776000e+09</td>\n",
       "      <td>-3.500000e+08</td>\n",
       "      <td>2.735800e+10</td>\n",
       "      <td>2.700800e+10</td>\n",
       "      <td>1.838000e+10</td>\n",
       "      <td>0.000000e+00</td>\n",
       "      <td>NaN</td>\n",
       "      <td>NaN</td>\n",
       "      <td>NaN</td>\n",
       "    </tr>\n",
       "    <tr>\n",
       "      <th>13</th>\n",
       "      <td>13</td>\n",
       "      <td>ABBV</td>\n",
       "      <td>2013-12-31</td>\n",
       "      <td>6.448000e+09</td>\n",
       "      <td>6.810000e+08</td>\n",
       "      <td>-5.400000e+07</td>\n",
       "      <td>92.0</td>\n",
       "      <td>-4.910000e+08</td>\n",
       "      <td>3.671000e+09</td>\n",
       "      <td>144.0</td>\n",
       "      <td>...</td>\n",
       "      <td>1.784800e+10</td>\n",
       "      <td>6.879000e+09</td>\n",
       "      <td>4.492000e+09</td>\n",
       "      <td>2.470600e+10</td>\n",
       "      <td>2.919800e+10</td>\n",
       "      <td>1.879000e+10</td>\n",
       "      <td>-3.200000e+08</td>\n",
       "      <td>2013.0</td>\n",
       "      <td>2.58</td>\n",
       "      <td>1.600000e+09</td>\n",
       "    </tr>\n",
       "    <tr>\n",
       "      <th>16</th>\n",
       "      <td>16</td>\n",
       "      <td>ABC</td>\n",
       "      <td>2013-09-30</td>\n",
       "      <td>1.487064e+10</td>\n",
       "      <td>-2.312518e+09</td>\n",
       "      <td>-4.400000e+04</td>\n",
       "      <td>19.0</td>\n",
       "      <td>-2.024500e+08</td>\n",
       "      <td>2.360992e+09</td>\n",
       "      <td>8.0</td>\n",
       "      <td>...</td>\n",
       "      <td>1.439365e+10</td>\n",
       "      <td>1.487064e+10</td>\n",
       "      <td>2.319745e+09</td>\n",
       "      <td>1.659889e+10</td>\n",
       "      <td>1.891864e+10</td>\n",
       "      <td>8.795917e+10</td>\n",
       "      <td>-1.516856e+09</td>\n",
       "      <td>2013.0</td>\n",
       "      <td>1.88</td>\n",
       "      <td>2.306952e+08</td>\n",
       "    </tr>\n",
       "    <tr>\n",
       "      <th>17</th>\n",
       "      <td>17</td>\n",
       "      <td>ABC</td>\n",
       "      <td>2014-09-30</td>\n",
       "      <td>1.725016e+10</td>\n",
       "      <td>-9.382860e+08</td>\n",
       "      <td>-2.859400e+07</td>\n",
       "      <td>14.0</td>\n",
       "      <td>-2.644570e+08</td>\n",
       "      <td>2.749185e+09</td>\n",
       "      <td>10.0</td>\n",
       "      <td>...</td>\n",
       "      <td>1.680020e+10</td>\n",
       "      <td>1.725016e+10</td>\n",
       "      <td>1.956899e+09</td>\n",
       "      <td>1.957528e+10</td>\n",
       "      <td>2.153218e+10</td>\n",
       "      <td>1.195691e+11</td>\n",
       "      <td>-2.313380e+09</td>\n",
       "      <td>2014.0</td>\n",
       "      <td>1.22</td>\n",
       "      <td>2.247787e+08</td>\n",
       "    </tr>\n",
       "    <tr>\n",
       "      <th>18</th>\n",
       "      <td>18</td>\n",
       "      <td>ABC</td>\n",
       "      <td>2015-09-30</td>\n",
       "      <td>2.157823e+10</td>\n",
       "      <td>-1.478793e+09</td>\n",
       "      <td>-4.422000e+07</td>\n",
       "      <td>22.0</td>\n",
       "      <td>-2.315850e+08</td>\n",
       "      <td>3.736477e+09</td>\n",
       "      <td>10.0</td>\n",
       "      <td>...</td>\n",
       "      <td>2.033449e+10</td>\n",
       "      <td>2.157823e+10</td>\n",
       "      <td>6.163860e+08</td>\n",
       "      <td>2.734660e+10</td>\n",
       "      <td>2.796298e+10</td>\n",
       "      <td>1.359618e+11</td>\n",
       "      <td>-4.150997e+09</td>\n",
       "      <td>2015.0</td>\n",
       "      <td>-0.62</td>\n",
       "      <td>2.228468e+08</td>\n",
       "    </tr>\n",
       "    <tr>\n",
       "      <th>19</th>\n",
       "      <td>19</td>\n",
       "      <td>ABC</td>\n",
       "      <td>2016-09-30</td>\n",
       "      <td>2.467016e+10</td>\n",
       "      <td>-9.127240e+08</td>\n",
       "      <td>5.048000e+06</td>\n",
       "      <td>67.0</td>\n",
       "      <td>-4.646160e+08</td>\n",
       "      <td>4.333001e+09</td>\n",
       "      <td>11.0</td>\n",
       "      <td>...</td>\n",
       "      <td>2.285185e+10</td>\n",
       "      <td>2.528131e+10</td>\n",
       "      <td>2.129404e+09</td>\n",
       "      <td>3.152680e+10</td>\n",
       "      <td>3.365620e+10</td>\n",
       "      <td>1.468497e+11</td>\n",
       "      <td>-4.396008e+09</td>\n",
       "      <td>2016.0</td>\n",
       "      <td>6.73</td>\n",
       "      <td>2.121737e+08</td>\n",
       "    </tr>\n",
       "  </tbody>\n",
       "</table>\n",
       "<p>20 rows × 79 columns</p>\n",
       "</div>"
      ],
      "text/plain": [
       "    Unnamed: 0 Ticker Symbol Period Ending  Accounts Payable  \\\n",
       "0            0           AAL    2012-12-31      3.068000e+09   \n",
       "1            1           AAL    2013-12-31      4.975000e+09   \n",
       "2            2           AAL    2014-12-31      4.668000e+09   \n",
       "3            3           AAL    2015-12-31      5.102000e+09   \n",
       "4            4           AAP    2012-12-29      2.409453e+09   \n",
       "5            5           AAP    2013-12-28      2.609239e+09   \n",
       "6            6           AAP    2015-01-03      3.616038e+09   \n",
       "7            7           AAP    2016-01-02      3.757085e+09   \n",
       "8            8          AAPL    2013-09-28      3.622300e+10   \n",
       "9            9          AAPL    2014-09-27      4.864900e+10   \n",
       "10          10          AAPL    2015-09-26      6.067100e+10   \n",
       "11          11          AAPL    2016-09-24      5.932100e+10   \n",
       "15          15          ABBV    2015-12-31      8.463000e+09   \n",
       "14          14          ABBV    2014-12-31      6.954000e+09   \n",
       "12          12          ABBV    2012-12-31      5.734000e+09   \n",
       "13          13          ABBV    2013-12-31      6.448000e+09   \n",
       "16          16           ABC    2013-09-30      1.487064e+10   \n",
       "17          17           ABC    2014-09-30      1.725016e+10   \n",
       "18          18           ABC    2015-09-30      2.157823e+10   \n",
       "19          19           ABC    2016-09-30      2.467016e+10   \n",
       "\n",
       "    Accounts Receivable  Add'l income/expense items  After Tax ROE  \\\n",
       "0         -2.220000e+08               -1.961000e+09           23.0   \n",
       "1         -9.300000e+07               -2.723000e+09           67.0   \n",
       "2         -1.600000e+08               -1.500000e+08          143.0   \n",
       "3          3.520000e+08               -7.080000e+08          135.0   \n",
       "4         -8.948200e+07                6.000000e+05           32.0   \n",
       "5         -3.242800e+07                2.698000e+06           26.0   \n",
       "6         -4.820900e+07                3.092000e+06           25.0   \n",
       "7         -2.147600e+07               -7.484000e+06           19.0   \n",
       "8         -1.949000e+09                1.156000e+09           30.0   \n",
       "9         -6.452000e+09                9.800000e+08           35.0   \n",
       "10        -3.124000e+09                1.285000e+09           45.0   \n",
       "11         1.044000e+09                1.348000e+09           36.0   \n",
       "15        -1.076000e+09               -2.060000e+08          130.0   \n",
       "14        -1.720000e+08               -6.510000e+08          102.0   \n",
       "12         2.230000e+08               -8.000000e+06         1507.0   \n",
       "13         6.810000e+08               -5.400000e+07           92.0   \n",
       "16        -2.312518e+09               -4.400000e+04           19.0   \n",
       "17        -9.382860e+08               -2.859400e+07           14.0   \n",
       "18        -1.478793e+09               -4.422000e+07           22.0   \n",
       "19        -9.127240e+08                5.048000e+06           67.0   \n",
       "\n",
       "    Capital Expenditures  Capital Surplus  Cash Ratio  ...  \\\n",
       "0          -1.888000e+09     4.695000e+09        53.0  ...   \n",
       "1          -3.114000e+09     1.059200e+10        75.0  ...   \n",
       "2          -5.311000e+09     1.513500e+10        60.0  ...   \n",
       "3          -6.151000e+09     1.159100e+10        51.0  ...   \n",
       "4          -2.711820e+08     5.202150e+08        23.0  ...   \n",
       "5          -1.957570e+08     5.312930e+08        40.0  ...   \n",
       "6          -2.284460e+08     5.629450e+08         3.0  ...   \n",
       "7          -2.347470e+08     6.033320e+08         2.0  ...   \n",
       "8          -8.165000e+09     0.000000e+00        93.0  ...   \n",
       "9          -9.571000e+09     0.000000e+00        40.0  ...   \n",
       "10         -1.124700e+10     0.000000e+00        52.0  ...   \n",
       "11         -1.273400e+10     0.000000e+00        85.0  ...   \n",
       "15         -5.320000e+08     1.308000e+10        77.0  ...   \n",
       "14         -6.120000e+08     4.194000e+09        74.0  ...   \n",
       "12         -3.330000e+08     0.000000e+00       118.0  ...   \n",
       "13         -4.910000e+08     3.671000e+09       144.0  ...   \n",
       "16         -2.024500e+08     2.360992e+09         8.0  ...   \n",
       "17         -2.644570e+08     2.749185e+09        10.0  ...   \n",
       "18         -2.315850e+08     3.736477e+09        10.0  ...   \n",
       "19         -4.646160e+08     4.333001e+09        11.0  ...   \n",
       "\n",
       "    Total Current Assets  Total Current Liabilities  Total Equity  \\\n",
       "0           7.072000e+09               9.011000e+09 -7.987000e+09   \n",
       "1           1.432300e+10               1.380600e+10 -2.731000e+09   \n",
       "2           1.175000e+10               1.340400e+10  2.021000e+09   \n",
       "3           9.985000e+09               1.360500e+10  5.635000e+09   \n",
       "4           3.184200e+09               2.559638e+09  1.210694e+09   \n",
       "5           3.989384e+09               2.764785e+09  1.516205e+09   \n",
       "6           4.741040e+09               3.654416e+09  2.002912e+09   \n",
       "7           4.940746e+09               3.797477e+09  2.460648e+09   \n",
       "8           7.328600e+10               4.365800e+10  1.235490e+11   \n",
       "9           6.853100e+10               6.344800e+10  1.115470e+11   \n",
       "10          8.937800e+10               8.061000e+10  1.193550e+11   \n",
       "11          1.068690e+11               7.900600e+10  1.282490e+11   \n",
       "15          1.631400e+10               1.089400e+10  3.945000e+09   \n",
       "14          1.608100e+10               1.139300e+10  1.742000e+09   \n",
       "12          1.535400e+10               6.776000e+09 -3.500000e+08   \n",
       "13          1.784800e+10               6.879000e+09  4.492000e+09   \n",
       "16          1.439365e+10               1.487064e+10  2.319745e+09   \n",
       "17          1.680020e+10               1.725016e+10  1.956899e+09   \n",
       "18          2.033449e+10               2.157823e+10  6.163860e+08   \n",
       "19          2.285185e+10               2.528131e+10  2.129404e+09   \n",
       "\n",
       "    Total Liabilities  Total Liabilities & Equity  Total Revenue  \\\n",
       "0        2.489100e+10                1.690400e+10   2.485500e+10   \n",
       "1        4.500900e+10                4.227800e+10   2.674300e+10   \n",
       "2        4.120400e+10                4.322500e+10   4.265000e+10   \n",
       "3        4.278000e+10                4.841500e+10   4.099000e+10   \n",
       "4        3.403120e+09                4.613814e+09   6.205003e+09   \n",
       "5        4.048569e+09                5.564774e+09   6.493814e+09   \n",
       "6        5.959446e+09                7.962358e+09   9.843861e+09   \n",
       "7        5.673917e+09                8.134565e+09   9.737018e+09   \n",
       "8        8.345100e+10                2.070000e+11   1.709100e+11   \n",
       "9        1.202920e+11                2.318390e+11   1.827950e+11   \n",
       "10       1.709900e+11                2.903450e+11   2.337150e+11   \n",
       "11       1.934370e+11                3.216860e+11   2.156390e+11   \n",
       "15       4.910500e+10                5.305000e+10   2.285900e+10   \n",
       "14       2.577100e+10                2.751300e+10   1.996000e+10   \n",
       "12       2.735800e+10                2.700800e+10   1.838000e+10   \n",
       "13       2.470600e+10                2.919800e+10   1.879000e+10   \n",
       "16       1.659889e+10                1.891864e+10   8.795917e+10   \n",
       "17       1.957528e+10                2.153218e+10   1.195691e+11   \n",
       "18       2.734660e+10                2.796298e+10   1.359618e+11   \n",
       "19       3.152680e+10                3.365620e+10   1.468497e+11   \n",
       "\n",
       "    Treasury Stock  For Year  Earnings Per Share  Estimated Shares Outstanding  \n",
       "0    -3.670000e+08    2012.0               -5.60                  3.350000e+08  \n",
       "1     0.000000e+00    2013.0              -11.25                  1.630222e+08  \n",
       "2     0.000000e+00    2014.0                4.02                  7.169154e+08  \n",
       "3     0.000000e+00    2015.0               11.39                  6.681299e+08  \n",
       "4    -2.709500e+07    2012.0                5.29                  7.328355e+07  \n",
       "5    -1.078900e+08    2013.0                5.36                  7.308918e+07  \n",
       "6    -1.130440e+08    2014.0                6.75                  7.315926e+07  \n",
       "7    -1.197090e+08    2015.0                6.45                  7.339504e+07  \n",
       "8     0.000000e+00    2013.0               40.03                  9.252311e+08  \n",
       "9     0.000000e+00    2014.0                6.49                  6.087827e+09  \n",
       "10    0.000000e+00    2015.0                9.28                  5.753664e+09  \n",
       "11    0.000000e+00    2016.0                8.35                  5.471497e+09  \n",
       "15   -8.839000e+09    2015.0                3.15                  1.633016e+09  \n",
       "14   -9.720000e+08    2014.0                1.11                  1.598198e+09  \n",
       "12    0.000000e+00       NaN                 NaN                           NaN  \n",
       "13   -3.200000e+08    2013.0                2.58                  1.600000e+09  \n",
       "16   -1.516856e+09    2013.0                1.88                  2.306952e+08  \n",
       "17   -2.313380e+09    2014.0                1.22                  2.247787e+08  \n",
       "18   -4.150997e+09    2015.0               -0.62                  2.228468e+08  \n",
       "19   -4.396008e+09    2016.0                6.73                  2.121737e+08  \n",
       "\n",
       "[20 rows x 79 columns]"
      ]
     },
     "execution_count": 3,
     "metadata": {},
     "output_type": "execute_result"
    }
   ],
   "source": [
    "fundamentals.sort_values(by=\"Ticker Symbol\", inplace=True, ascending=True)\n",
    "fundamentals[:20]"
   ]
  },
  {
   "cell_type": "code",
   "execution_count": 4,
   "metadata": {},
   "outputs": [
    {
     "data": {
      "text/html": [
       "<div>\n",
       "<style scoped>\n",
       "    .dataframe tbody tr th:only-of-type {\n",
       "        vertical-align: middle;\n",
       "    }\n",
       "\n",
       "    .dataframe tbody tr th {\n",
       "        vertical-align: top;\n",
       "    }\n",
       "\n",
       "    .dataframe thead th {\n",
       "        text-align: right;\n",
       "    }\n",
       "</style>\n",
       "<table border=\"1\" class=\"dataframe\">\n",
       "  <thead>\n",
       "    <tr style=\"text-align: right;\">\n",
       "      <th></th>\n",
       "      <th>date</th>\n",
       "      <th>symbol</th>\n",
       "      <th>open</th>\n",
       "      <th>close</th>\n",
       "      <th>low</th>\n",
       "      <th>high</th>\n",
       "      <th>volume</th>\n",
       "    </tr>\n",
       "  </thead>\n",
       "  <tbody>\n",
       "    <tr>\n",
       "      <th>85998</th>\n",
       "      <td>2010-09-24</td>\n",
       "      <td>A</td>\n",
       "      <td>22.153077</td>\n",
       "      <td>22.954220</td>\n",
       "      <td>22.153077</td>\n",
       "      <td>23.004292</td>\n",
       "      <td>5083900.0</td>\n",
       "    </tr>\n",
       "    <tr>\n",
       "      <th>563193</th>\n",
       "      <td>2014-09-15</td>\n",
       "      <td>A</td>\n",
       "      <td>41.845494</td>\n",
       "      <td>41.430614</td>\n",
       "      <td>41.301861</td>\n",
       "      <td>41.845494</td>\n",
       "      <td>2266200.0</td>\n",
       "    </tr>\n",
       "    <tr>\n",
       "      <th>796764</th>\n",
       "      <td>2016-07-28</td>\n",
       "      <td>A</td>\n",
       "      <td>47.189999</td>\n",
       "      <td>47.509998</td>\n",
       "      <td>47.020000</td>\n",
       "      <td>47.750000</td>\n",
       "      <td>1944800.0</td>\n",
       "    </tr>\n",
       "    <tr>\n",
       "      <th>183719</th>\n",
       "      <td>2011-07-22</td>\n",
       "      <td>A</td>\n",
       "      <td>33.583691</td>\n",
       "      <td>33.540772</td>\n",
       "      <td>33.276108</td>\n",
       "      <td>33.719601</td>\n",
       "      <td>2894100.0</td>\n",
       "    </tr>\n",
       "    <tr>\n",
       "      <th>24586</th>\n",
       "      <td>2010-03-19</td>\n",
       "      <td>A</td>\n",
       "      <td>23.905579</td>\n",
       "      <td>23.905579</td>\n",
       "      <td>23.698141</td>\n",
       "      <td>24.077253</td>\n",
       "      <td>5882500.0</td>\n",
       "    </tr>\n",
       "    <tr>\n",
       "      <th>810764</th>\n",
       "      <td>2016-09-07</td>\n",
       "      <td>A</td>\n",
       "      <td>47.070000</td>\n",
       "      <td>47.110001</td>\n",
       "      <td>46.860001</td>\n",
       "      <td>47.169998</td>\n",
       "      <td>1542400.0</td>\n",
       "    </tr>\n",
       "    <tr>\n",
       "      <th>749342</th>\n",
       "      <td>2016-03-14</td>\n",
       "      <td>A</td>\n",
       "      <td>38.980000</td>\n",
       "      <td>39.020000</td>\n",
       "      <td>38.410000</td>\n",
       "      <td>39.169998</td>\n",
       "      <td>929600.0</td>\n",
       "    </tr>\n",
       "    <tr>\n",
       "      <th>64893</th>\n",
       "      <td>2010-07-22</td>\n",
       "      <td>A</td>\n",
       "      <td>19.992848</td>\n",
       "      <td>20.543634</td>\n",
       "      <td>19.992848</td>\n",
       "      <td>20.650931</td>\n",
       "      <td>5102000.0</td>\n",
       "    </tr>\n",
       "    <tr>\n",
       "      <th>288059</th>\n",
       "      <td>2012-06-08</td>\n",
       "      <td>A</td>\n",
       "      <td>28.340486</td>\n",
       "      <td>28.326180</td>\n",
       "      <td>28.204579</td>\n",
       "      <td>28.505007</td>\n",
       "      <td>4244600.0</td>\n",
       "    </tr>\n",
       "    <tr>\n",
       "      <th>405612</th>\n",
       "      <td>2013-06-05</td>\n",
       "      <td>A</td>\n",
       "      <td>32.417740</td>\n",
       "      <td>31.852646</td>\n",
       "      <td>31.831188</td>\n",
       "      <td>32.460659</td>\n",
       "      <td>3488100.0</td>\n",
       "    </tr>\n",
       "    <tr>\n",
       "      <th>266439</th>\n",
       "      <td>2012-04-03</td>\n",
       "      <td>A</td>\n",
       "      <td>32.002861</td>\n",
       "      <td>32.067238</td>\n",
       "      <td>31.802574</td>\n",
       "      <td>32.296139</td>\n",
       "      <td>3852700.0</td>\n",
       "    </tr>\n",
       "    <tr>\n",
       "      <th>433891</th>\n",
       "      <td>2013-08-27</td>\n",
       "      <td>A</td>\n",
       "      <td>33.676682</td>\n",
       "      <td>33.597996</td>\n",
       "      <td>33.476395</td>\n",
       "      <td>33.898426</td>\n",
       "      <td>2982200.0</td>\n",
       "    </tr>\n",
       "    <tr>\n",
       "      <th>323309</th>\n",
       "      <td>2012-09-25</td>\n",
       "      <td>A</td>\n",
       "      <td>27.796852</td>\n",
       "      <td>27.410587</td>\n",
       "      <td>27.403433</td>\n",
       "      <td>27.846924</td>\n",
       "      <td>4954000.0</td>\n",
       "    </tr>\n",
       "    <tr>\n",
       "      <th>702450</th>\n",
       "      <td>2015-10-27</td>\n",
       "      <td>A</td>\n",
       "      <td>36.669998</td>\n",
       "      <td>37.049999</td>\n",
       "      <td>36.470001</td>\n",
       "      <td>37.060001</td>\n",
       "      <td>2557200.0</td>\n",
       "    </tr>\n",
       "    <tr>\n",
       "      <th>94909</th>\n",
       "      <td>2010-10-21</td>\n",
       "      <td>A</td>\n",
       "      <td>24.885552</td>\n",
       "      <td>24.856939</td>\n",
       "      <td>24.620888</td>\n",
       "      <td>25.035765</td>\n",
       "      <td>4276600.0</td>\n",
       "    </tr>\n",
       "    <tr>\n",
       "      <th>522033</th>\n",
       "      <td>2014-05-15</td>\n",
       "      <td>A</td>\n",
       "      <td>39.055794</td>\n",
       "      <td>38.977112</td>\n",
       "      <td>38.447785</td>\n",
       "      <td>40.164520</td>\n",
       "      <td>8024700.0</td>\n",
       "    </tr>\n",
       "    <tr>\n",
       "      <th>408032</th>\n",
       "      <td>2013-06-12</td>\n",
       "      <td>A</td>\n",
       "      <td>32.031475</td>\n",
       "      <td>31.416310</td>\n",
       "      <td>31.323318</td>\n",
       "      <td>32.067238</td>\n",
       "      <td>3817500.0</td>\n",
       "    </tr>\n",
       "    <tr>\n",
       "      <th>429979</th>\n",
       "      <td>2013-08-15</td>\n",
       "      <td>A</td>\n",
       "      <td>34.041489</td>\n",
       "      <td>33.590843</td>\n",
       "      <td>33.512161</td>\n",
       "      <td>34.456368</td>\n",
       "      <td>9378200.0</td>\n",
       "    </tr>\n",
       "    <tr>\n",
       "      <th>684055</th>\n",
       "      <td>2015-09-03</td>\n",
       "      <td>A</td>\n",
       "      <td>35.610001</td>\n",
       "      <td>35.750000</td>\n",
       "      <td>35.529999</td>\n",
       "      <td>36.119999</td>\n",
       "      <td>2140400.0</td>\n",
       "    </tr>\n",
       "    <tr>\n",
       "      <th>106639</th>\n",
       "      <td>2010-11-26</td>\n",
       "      <td>A</td>\n",
       "      <td>25.722460</td>\n",
       "      <td>26.001431</td>\n",
       "      <td>25.586552</td>\n",
       "      <td>26.065809</td>\n",
       "      <td>1094600.0</td>\n",
       "    </tr>\n",
       "  </tbody>\n",
       "</table>\n",
       "</div>"
      ],
      "text/plain": [
       "              date symbol       open      close        low       high  \\\n",
       "85998   2010-09-24      A  22.153077  22.954220  22.153077  23.004292   \n",
       "563193  2014-09-15      A  41.845494  41.430614  41.301861  41.845494   \n",
       "796764  2016-07-28      A  47.189999  47.509998  47.020000  47.750000   \n",
       "183719  2011-07-22      A  33.583691  33.540772  33.276108  33.719601   \n",
       "24586   2010-03-19      A  23.905579  23.905579  23.698141  24.077253   \n",
       "810764  2016-09-07      A  47.070000  47.110001  46.860001  47.169998   \n",
       "749342  2016-03-14      A  38.980000  39.020000  38.410000  39.169998   \n",
       "64893   2010-07-22      A  19.992848  20.543634  19.992848  20.650931   \n",
       "288059  2012-06-08      A  28.340486  28.326180  28.204579  28.505007   \n",
       "405612  2013-06-05      A  32.417740  31.852646  31.831188  32.460659   \n",
       "266439  2012-04-03      A  32.002861  32.067238  31.802574  32.296139   \n",
       "433891  2013-08-27      A  33.676682  33.597996  33.476395  33.898426   \n",
       "323309  2012-09-25      A  27.796852  27.410587  27.403433  27.846924   \n",
       "702450  2015-10-27      A  36.669998  37.049999  36.470001  37.060001   \n",
       "94909   2010-10-21      A  24.885552  24.856939  24.620888  25.035765   \n",
       "522033  2014-05-15      A  39.055794  38.977112  38.447785  40.164520   \n",
       "408032  2013-06-12      A  32.031475  31.416310  31.323318  32.067238   \n",
       "429979  2013-08-15      A  34.041489  33.590843  33.512161  34.456368   \n",
       "684055  2015-09-03      A  35.610001  35.750000  35.529999  36.119999   \n",
       "106639  2010-11-26      A  25.722460  26.001431  25.586552  26.065809   \n",
       "\n",
       "           volume  \n",
       "85998   5083900.0  \n",
       "563193  2266200.0  \n",
       "796764  1944800.0  \n",
       "183719  2894100.0  \n",
       "24586   5882500.0  \n",
       "810764  1542400.0  \n",
       "749342   929600.0  \n",
       "64893   5102000.0  \n",
       "288059  4244600.0  \n",
       "405612  3488100.0  \n",
       "266439  3852700.0  \n",
       "433891  2982200.0  \n",
       "323309  4954000.0  \n",
       "702450  2557200.0  \n",
       "94909   4276600.0  \n",
       "522033  8024700.0  \n",
       "408032  3817500.0  \n",
       "429979  9378200.0  \n",
       "684055  2140400.0  \n",
       "106639  1094600.0  "
      ]
     },
     "execution_count": 4,
     "metadata": {},
     "output_type": "execute_result"
    }
   ],
   "source": [
    "prices.sort_values(by=\"symbol\",inplace=True,ascending=True)\n",
    "prices[:20]"
   ]
  },
  {
   "cell_type": "code",
   "execution_count": 5,
   "metadata": {},
   "outputs": [
    {
     "data": {
      "text/plain": [
       "(1781, 79)"
      ]
     },
     "execution_count": 5,
     "metadata": {},
     "output_type": "execute_result"
    }
   ],
   "source": [
    "fundamentals.shape"
   ]
  },
  {
   "cell_type": "code",
   "execution_count": 6,
   "metadata": {},
   "outputs": [
    {
     "data": {
      "text/plain": [
       "(851264, 7)"
      ]
     },
     "execution_count": 6,
     "metadata": {},
     "output_type": "execute_result"
    }
   ],
   "source": [
    "prices.shape"
   ]
  },
  {
   "cell_type": "markdown",
   "metadata": {},
   "source": [
    "Clearly, we have many more prices than we do items of fundamental data. But we don't actually want all of these prices, as they are day to day. What we want is for each row in the fundamentals dataset, the price of that stock at the date the fundamental data was recorded (i.e. the end of their financial year/quarter)"
   ]
  },
  {
   "cell_type": "code",
   "execution_count": 36,
   "metadata": {},
   "outputs": [],
   "source": [
    "# our dates are currently timestamps, so we want to remove the time (not the date) and convert to datetime\n",
    "# we create two temporary dataframes to allow us to do this\n",
    "df = pd.DataFrame()\n",
    "df2 = pd.DataFrame()\n",
    "# convert the timestamp in fundamentals to a datetime\n",
    "df[\"temp\"] = pd.to_datetime(fundamentals['Period Ending'], format='%Y-%m-%d')\n",
    "# convert that datetime into just a date\n",
    "fundamentals[\"Time Period Ending\"] = df[\"temp\"].dt.date\n",
    "# basically the same process\n",
    "df2['othertemp'] = pd.to_datetime(prices['date'])\n",
    "prices[\"date\"] = df2[\"othertemp\"].dt.date\n",
    "# And down here we finally create two lists of corresponding dates and symbols\n",
    "symbols = [symbol for symbol in fundamentals[\"Ticker Symbol\"]]\n",
    "dates = [date for date in fundamentals[\"Time Period Ending\"]]"
   ]
  },
  {
   "cell_type": "code",
   "execution_count": 41,
   "metadata": {},
   "outputs": [
    {
     "data": {
      "text/plain": [
       "[34.049999]"
      ]
     },
     "execution_count": 41,
     "metadata": {},
     "output_type": "execute_result"
    }
   ],
   "source": [
    "# This cell is simply to test the code in the cell below, as the loop in the cell below takes a little while to run, and we want to be sure we aren't making a mistake before we run it.\n",
    "array = []\n",
    "test = prices.loc[(prices[\"date\"]==dates[1400]) & (prices[\"symbol\"]==symbols[1400])].index.to_numpy()\n",
    "#symbols[1400]\n",
    "#dates[1400]\n",
    "#test[0]\n",
    "array.append(prices[\"close\"][test[0]])\n",
    "array\n"
   ]
  },
  {
   "cell_type": "code",
   "execution_count": 42,
   "metadata": {},
   "outputs": [
    {
     "data": {
      "text/plain": [
       "34.049999"
      ]
     },
     "execution_count": 42,
     "metadata": {},
     "output_type": "execute_result"
    }
   ],
   "source": [
    "# empty array to hold our prices\n",
    "corresponding_prices = []\n",
    "# our date and symbol lists are exactly the same length, and their elements correspond, so we can use i in both lists\n",
    "for i in range(len(dates)):\n",
    "    # we are using a try catch because some rows don't have data, and this throws an error\n",
    "    try:\n",
    "        # find the location in prices where the date and symbol match our desired date and symbol, and make it a numpy array\n",
    "        index = prices.loc[(prices[\"date\"]==dates[i]) & (prices[\"symbol\"]==symbols[i])].index.to_numpy()\n",
    "        corresponding_prices.append(prices[\"close\"][index[0]])\n",
    "    # if we can't find the price, say it's 0 - we will remove these rows later as without a price, they are meaningless to us\n",
    "    except:\n",
    "        corresponding_prices.append(0)\n",
    "# Test if it's got the correct prices\n",
    "corresponding_prices[1400]"
   ]
  },
  {
   "cell_type": "code",
   "execution_count": 43,
   "metadata": {},
   "outputs": [
    {
     "data": {
      "text/html": [
       "<div>\n",
       "<style scoped>\n",
       "    .dataframe tbody tr th:only-of-type {\n",
       "        vertical-align: middle;\n",
       "    }\n",
       "\n",
       "    .dataframe tbody tr th {\n",
       "        vertical-align: top;\n",
       "    }\n",
       "\n",
       "    .dataframe thead th {\n",
       "        text-align: right;\n",
       "    }\n",
       "</style>\n",
       "<table border=\"1\" class=\"dataframe\">\n",
       "  <thead>\n",
       "    <tr style=\"text-align: right;\">\n",
       "      <th></th>\n",
       "      <th>Unnamed: 0</th>\n",
       "      <th>Ticker Symbol</th>\n",
       "      <th>Period Ending</th>\n",
       "      <th>Accounts Payable</th>\n",
       "      <th>Accounts Receivable</th>\n",
       "      <th>Add'l income/expense items</th>\n",
       "      <th>After Tax ROE</th>\n",
       "      <th>Capital Expenditures</th>\n",
       "      <th>Capital Surplus</th>\n",
       "      <th>Cash Ratio</th>\n",
       "      <th>...</th>\n",
       "      <th>Total Equity</th>\n",
       "      <th>Total Liabilities</th>\n",
       "      <th>Total Liabilities &amp; Equity</th>\n",
       "      <th>Total Revenue</th>\n",
       "      <th>Treasury Stock</th>\n",
       "      <th>For Year</th>\n",
       "      <th>Earnings Per Share</th>\n",
       "      <th>Estimated Shares Outstanding</th>\n",
       "      <th>Time Period Ending</th>\n",
       "      <th>Target</th>\n",
       "    </tr>\n",
       "  </thead>\n",
       "  <tbody>\n",
       "    <tr>\n",
       "      <th>10</th>\n",
       "      <td>10</td>\n",
       "      <td>AAPL</td>\n",
       "      <td>2015-09-26</td>\n",
       "      <td>6.067100e+10</td>\n",
       "      <td>-3.124000e+09</td>\n",
       "      <td>1.285000e+09</td>\n",
       "      <td>45.0</td>\n",
       "      <td>-1.124700e+10</td>\n",
       "      <td>0.000000e+00</td>\n",
       "      <td>52.0</td>\n",
       "      <td>...</td>\n",
       "      <td>1.193550e+11</td>\n",
       "      <td>1.709900e+11</td>\n",
       "      <td>2.903450e+11</td>\n",
       "      <td>2.337150e+11</td>\n",
       "      <td>0.000000e+00</td>\n",
       "      <td>2015.0</td>\n",
       "      <td>9.28</td>\n",
       "      <td>5.753664e+09</td>\n",
       "      <td>2015-09-26</td>\n",
       "      <td>0.000000</td>\n",
       "    </tr>\n",
       "    <tr>\n",
       "      <th>11</th>\n",
       "      <td>11</td>\n",
       "      <td>AAPL</td>\n",
       "      <td>2016-09-24</td>\n",
       "      <td>5.932100e+10</td>\n",
       "      <td>1.044000e+09</td>\n",
       "      <td>1.348000e+09</td>\n",
       "      <td>36.0</td>\n",
       "      <td>-1.273400e+10</td>\n",
       "      <td>0.000000e+00</td>\n",
       "      <td>85.0</td>\n",
       "      <td>...</td>\n",
       "      <td>1.282490e+11</td>\n",
       "      <td>1.934370e+11</td>\n",
       "      <td>3.216860e+11</td>\n",
       "      <td>2.156390e+11</td>\n",
       "      <td>0.000000e+00</td>\n",
       "      <td>2016.0</td>\n",
       "      <td>8.35</td>\n",
       "      <td>5.471497e+09</td>\n",
       "      <td>2016-09-24</td>\n",
       "      <td>0.000000</td>\n",
       "    </tr>\n",
       "    <tr>\n",
       "      <th>15</th>\n",
       "      <td>15</td>\n",
       "      <td>ABBV</td>\n",
       "      <td>2015-12-31</td>\n",
       "      <td>8.463000e+09</td>\n",
       "      <td>-1.076000e+09</td>\n",
       "      <td>-2.060000e+08</td>\n",
       "      <td>130.0</td>\n",
       "      <td>-5.320000e+08</td>\n",
       "      <td>1.308000e+10</td>\n",
       "      <td>77.0</td>\n",
       "      <td>...</td>\n",
       "      <td>3.945000e+09</td>\n",
       "      <td>4.910500e+10</td>\n",
       "      <td>5.305000e+10</td>\n",
       "      <td>2.285900e+10</td>\n",
       "      <td>-8.839000e+09</td>\n",
       "      <td>2015.0</td>\n",
       "      <td>3.15</td>\n",
       "      <td>1.633016e+09</td>\n",
       "      <td>2015-12-31</td>\n",
       "      <td>59.240002</td>\n",
       "    </tr>\n",
       "    <tr>\n",
       "      <th>14</th>\n",
       "      <td>14</td>\n",
       "      <td>ABBV</td>\n",
       "      <td>2014-12-31</td>\n",
       "      <td>6.954000e+09</td>\n",
       "      <td>-1.720000e+08</td>\n",
       "      <td>-6.510000e+08</td>\n",
       "      <td>102.0</td>\n",
       "      <td>-6.120000e+08</td>\n",
       "      <td>4.194000e+09</td>\n",
       "      <td>74.0</td>\n",
       "      <td>...</td>\n",
       "      <td>1.742000e+09</td>\n",
       "      <td>2.577100e+10</td>\n",
       "      <td>2.751300e+10</td>\n",
       "      <td>1.996000e+10</td>\n",
       "      <td>-9.720000e+08</td>\n",
       "      <td>2014.0</td>\n",
       "      <td>1.11</td>\n",
       "      <td>1.598198e+09</td>\n",
       "      <td>2014-12-31</td>\n",
       "      <td>65.440002</td>\n",
       "    </tr>\n",
       "    <tr>\n",
       "      <th>12</th>\n",
       "      <td>12</td>\n",
       "      <td>ABBV</td>\n",
       "      <td>2012-12-31</td>\n",
       "      <td>5.734000e+09</td>\n",
       "      <td>2.230000e+08</td>\n",
       "      <td>-8.000000e+06</td>\n",
       "      <td>1507.0</td>\n",
       "      <td>-3.330000e+08</td>\n",
       "      <td>0.000000e+00</td>\n",
       "      <td>118.0</td>\n",
       "      <td>...</td>\n",
       "      <td>-3.500000e+08</td>\n",
       "      <td>2.735800e+10</td>\n",
       "      <td>2.700800e+10</td>\n",
       "      <td>1.838000e+10</td>\n",
       "      <td>0.000000e+00</td>\n",
       "      <td>NaN</td>\n",
       "      <td>NaN</td>\n",
       "      <td>NaN</td>\n",
       "      <td>2012-12-31</td>\n",
       "      <td>0.000000</td>\n",
       "    </tr>\n",
       "    <tr>\n",
       "      <th>13</th>\n",
       "      <td>13</td>\n",
       "      <td>ABBV</td>\n",
       "      <td>2013-12-31</td>\n",
       "      <td>6.448000e+09</td>\n",
       "      <td>6.810000e+08</td>\n",
       "      <td>-5.400000e+07</td>\n",
       "      <td>92.0</td>\n",
       "      <td>-4.910000e+08</td>\n",
       "      <td>3.671000e+09</td>\n",
       "      <td>144.0</td>\n",
       "      <td>...</td>\n",
       "      <td>4.492000e+09</td>\n",
       "      <td>2.470600e+10</td>\n",
       "      <td>2.919800e+10</td>\n",
       "      <td>1.879000e+10</td>\n",
       "      <td>-3.200000e+08</td>\n",
       "      <td>2013.0</td>\n",
       "      <td>2.58</td>\n",
       "      <td>1.600000e+09</td>\n",
       "      <td>2013-12-31</td>\n",
       "      <td>52.810001</td>\n",
       "    </tr>\n",
       "    <tr>\n",
       "      <th>16</th>\n",
       "      <td>16</td>\n",
       "      <td>ABC</td>\n",
       "      <td>2013-09-30</td>\n",
       "      <td>1.487064e+10</td>\n",
       "      <td>-2.312518e+09</td>\n",
       "      <td>-4.400000e+04</td>\n",
       "      <td>19.0</td>\n",
       "      <td>-2.024500e+08</td>\n",
       "      <td>2.360992e+09</td>\n",
       "      <td>8.0</td>\n",
       "      <td>...</td>\n",
       "      <td>2.319745e+09</td>\n",
       "      <td>1.659889e+10</td>\n",
       "      <td>1.891864e+10</td>\n",
       "      <td>8.795917e+10</td>\n",
       "      <td>-1.516856e+09</td>\n",
       "      <td>2013.0</td>\n",
       "      <td>1.88</td>\n",
       "      <td>2.306952e+08</td>\n",
       "      <td>2013-09-30</td>\n",
       "      <td>61.099998</td>\n",
       "    </tr>\n",
       "    <tr>\n",
       "      <th>17</th>\n",
       "      <td>17</td>\n",
       "      <td>ABC</td>\n",
       "      <td>2014-09-30</td>\n",
       "      <td>1.725016e+10</td>\n",
       "      <td>-9.382860e+08</td>\n",
       "      <td>-2.859400e+07</td>\n",
       "      <td>14.0</td>\n",
       "      <td>-2.644570e+08</td>\n",
       "      <td>2.749185e+09</td>\n",
       "      <td>10.0</td>\n",
       "      <td>...</td>\n",
       "      <td>1.956899e+09</td>\n",
       "      <td>1.957528e+10</td>\n",
       "      <td>2.153218e+10</td>\n",
       "      <td>1.195691e+11</td>\n",
       "      <td>-2.313380e+09</td>\n",
       "      <td>2014.0</td>\n",
       "      <td>1.22</td>\n",
       "      <td>2.247787e+08</td>\n",
       "      <td>2014-09-30</td>\n",
       "      <td>77.300003</td>\n",
       "    </tr>\n",
       "    <tr>\n",
       "      <th>18</th>\n",
       "      <td>18</td>\n",
       "      <td>ABC</td>\n",
       "      <td>2015-09-30</td>\n",
       "      <td>2.157823e+10</td>\n",
       "      <td>-1.478793e+09</td>\n",
       "      <td>-4.422000e+07</td>\n",
       "      <td>22.0</td>\n",
       "      <td>-2.315850e+08</td>\n",
       "      <td>3.736477e+09</td>\n",
       "      <td>10.0</td>\n",
       "      <td>...</td>\n",
       "      <td>6.163860e+08</td>\n",
       "      <td>2.734660e+10</td>\n",
       "      <td>2.796298e+10</td>\n",
       "      <td>1.359618e+11</td>\n",
       "      <td>-4.150997e+09</td>\n",
       "      <td>2015.0</td>\n",
       "      <td>-0.62</td>\n",
       "      <td>2.228468e+08</td>\n",
       "      <td>2015-09-30</td>\n",
       "      <td>94.989998</td>\n",
       "    </tr>\n",
       "    <tr>\n",
       "      <th>19</th>\n",
       "      <td>19</td>\n",
       "      <td>ABC</td>\n",
       "      <td>2016-09-30</td>\n",
       "      <td>2.467016e+10</td>\n",
       "      <td>-9.127240e+08</td>\n",
       "      <td>5.048000e+06</td>\n",
       "      <td>67.0</td>\n",
       "      <td>-4.646160e+08</td>\n",
       "      <td>4.333001e+09</td>\n",
       "      <td>11.0</td>\n",
       "      <td>...</td>\n",
       "      <td>2.129404e+09</td>\n",
       "      <td>3.152680e+10</td>\n",
       "      <td>3.365620e+10</td>\n",
       "      <td>1.468497e+11</td>\n",
       "      <td>-4.396008e+09</td>\n",
       "      <td>2016.0</td>\n",
       "      <td>6.73</td>\n",
       "      <td>2.121737e+08</td>\n",
       "      <td>2016-09-30</td>\n",
       "      <td>80.779999</td>\n",
       "    </tr>\n",
       "  </tbody>\n",
       "</table>\n",
       "<p>10 rows × 81 columns</p>\n",
       "</div>"
      ],
      "text/plain": [
       "    Unnamed: 0 Ticker Symbol Period Ending  Accounts Payable  \\\n",
       "10          10          AAPL    2015-09-26      6.067100e+10   \n",
       "11          11          AAPL    2016-09-24      5.932100e+10   \n",
       "15          15          ABBV    2015-12-31      8.463000e+09   \n",
       "14          14          ABBV    2014-12-31      6.954000e+09   \n",
       "12          12          ABBV    2012-12-31      5.734000e+09   \n",
       "13          13          ABBV    2013-12-31      6.448000e+09   \n",
       "16          16           ABC    2013-09-30      1.487064e+10   \n",
       "17          17           ABC    2014-09-30      1.725016e+10   \n",
       "18          18           ABC    2015-09-30      2.157823e+10   \n",
       "19          19           ABC    2016-09-30      2.467016e+10   \n",
       "\n",
       "    Accounts Receivable  Add'l income/expense items  After Tax ROE  \\\n",
       "10        -3.124000e+09                1.285000e+09           45.0   \n",
       "11         1.044000e+09                1.348000e+09           36.0   \n",
       "15        -1.076000e+09               -2.060000e+08          130.0   \n",
       "14        -1.720000e+08               -6.510000e+08          102.0   \n",
       "12         2.230000e+08               -8.000000e+06         1507.0   \n",
       "13         6.810000e+08               -5.400000e+07           92.0   \n",
       "16        -2.312518e+09               -4.400000e+04           19.0   \n",
       "17        -9.382860e+08               -2.859400e+07           14.0   \n",
       "18        -1.478793e+09               -4.422000e+07           22.0   \n",
       "19        -9.127240e+08                5.048000e+06           67.0   \n",
       "\n",
       "    Capital Expenditures  Capital Surplus  Cash Ratio  ...  Total Equity  \\\n",
       "10         -1.124700e+10     0.000000e+00        52.0  ...  1.193550e+11   \n",
       "11         -1.273400e+10     0.000000e+00        85.0  ...  1.282490e+11   \n",
       "15         -5.320000e+08     1.308000e+10        77.0  ...  3.945000e+09   \n",
       "14         -6.120000e+08     4.194000e+09        74.0  ...  1.742000e+09   \n",
       "12         -3.330000e+08     0.000000e+00       118.0  ... -3.500000e+08   \n",
       "13         -4.910000e+08     3.671000e+09       144.0  ...  4.492000e+09   \n",
       "16         -2.024500e+08     2.360992e+09         8.0  ...  2.319745e+09   \n",
       "17         -2.644570e+08     2.749185e+09        10.0  ...  1.956899e+09   \n",
       "18         -2.315850e+08     3.736477e+09        10.0  ...  6.163860e+08   \n",
       "19         -4.646160e+08     4.333001e+09        11.0  ...  2.129404e+09   \n",
       "\n",
       "    Total Liabilities  Total Liabilities & Equity  Total Revenue  \\\n",
       "10       1.709900e+11                2.903450e+11   2.337150e+11   \n",
       "11       1.934370e+11                3.216860e+11   2.156390e+11   \n",
       "15       4.910500e+10                5.305000e+10   2.285900e+10   \n",
       "14       2.577100e+10                2.751300e+10   1.996000e+10   \n",
       "12       2.735800e+10                2.700800e+10   1.838000e+10   \n",
       "13       2.470600e+10                2.919800e+10   1.879000e+10   \n",
       "16       1.659889e+10                1.891864e+10   8.795917e+10   \n",
       "17       1.957528e+10                2.153218e+10   1.195691e+11   \n",
       "18       2.734660e+10                2.796298e+10   1.359618e+11   \n",
       "19       3.152680e+10                3.365620e+10   1.468497e+11   \n",
       "\n",
       "    Treasury Stock  For Year  Earnings Per Share  \\\n",
       "10    0.000000e+00    2015.0                9.28   \n",
       "11    0.000000e+00    2016.0                8.35   \n",
       "15   -8.839000e+09    2015.0                3.15   \n",
       "14   -9.720000e+08    2014.0                1.11   \n",
       "12    0.000000e+00       NaN                 NaN   \n",
       "13   -3.200000e+08    2013.0                2.58   \n",
       "16   -1.516856e+09    2013.0                1.88   \n",
       "17   -2.313380e+09    2014.0                1.22   \n",
       "18   -4.150997e+09    2015.0               -0.62   \n",
       "19   -4.396008e+09    2016.0                6.73   \n",
       "\n",
       "    Estimated Shares Outstanding  Time Period Ending     Target  \n",
       "10                  5.753664e+09          2015-09-26   0.000000  \n",
       "11                  5.471497e+09          2016-09-24   0.000000  \n",
       "15                  1.633016e+09          2015-12-31  59.240002  \n",
       "14                  1.598198e+09          2014-12-31  65.440002  \n",
       "12                           NaN          2012-12-31   0.000000  \n",
       "13                  1.600000e+09          2013-12-31  52.810001  \n",
       "16                  2.306952e+08          2013-09-30  61.099998  \n",
       "17                  2.247787e+08          2014-09-30  77.300003  \n",
       "18                  2.228468e+08          2015-09-30  94.989998  \n",
       "19                  2.121737e+08          2016-09-30  80.779999  \n",
       "\n",
       "[10 rows x 81 columns]"
      ]
     },
     "execution_count": 43,
     "metadata": {},
     "output_type": "execute_result"
    }
   ],
   "source": [
    "fundamentals[\"Target\"] = corresponding_prices\n",
    "fundamentals[10:20]"
   ]
  },
  {
   "cell_type": "markdown",
   "metadata": {},
   "source": [
    "## 3.2. Cleaning Data"
   ]
  },
  {
   "cell_type": "markdown",
   "metadata": {},
   "source": [
    "In order to be able to train a machine learning model on this data, we first need to get it all into numerical form. This involves imputing missing values or deleting rows if there is insufficient data, making sure the data is all of a consistent shape, and so on."
   ]
  },
  {
   "cell_type": "code",
   "execution_count": 53,
   "metadata": {},
   "outputs": [],
   "source": [
    "# Let's first get rid of any rows where the price is 0 (i.e. there was no data for it)\n",
    "fundamentals.drop(fundamentals[fundamentals.Target == 0].index, inplace=True)\n",
    "# we also drop this unnamed column - its purpose is unclear and its certainly not measuring anything about the company, so we get rid of it\n",
    "fundamentals.drop(\"Unnamed: 0\", axis=1, inplace=True)\n",
    "# we now have two columns with the same data, just in different formats, so we can drop the period ending column\n",
    "fundamentals.drop(\"Period Ending\", axis=1, inplace=True)"
   ]
  },
  {
   "cell_type": "code",
   "execution_count": 54,
   "metadata": {},
   "outputs": [
    {
     "data": {
      "text/html": [
       "<div>\n",
       "<style scoped>\n",
       "    .dataframe tbody tr th:only-of-type {\n",
       "        vertical-align: middle;\n",
       "    }\n",
       "\n",
       "    .dataframe tbody tr th {\n",
       "        vertical-align: top;\n",
       "    }\n",
       "\n",
       "    .dataframe thead th {\n",
       "        text-align: right;\n",
       "    }\n",
       "</style>\n",
       "<table border=\"1\" class=\"dataframe\">\n",
       "  <thead>\n",
       "    <tr style=\"text-align: right;\">\n",
       "      <th></th>\n",
       "      <th>Ticker Symbol</th>\n",
       "      <th>Accounts Payable</th>\n",
       "      <th>Accounts Receivable</th>\n",
       "      <th>Add'l income/expense items</th>\n",
       "      <th>After Tax ROE</th>\n",
       "      <th>Capital Expenditures</th>\n",
       "      <th>Capital Surplus</th>\n",
       "      <th>Cash Ratio</th>\n",
       "      <th>Cash and Cash Equivalents</th>\n",
       "      <th>Changes in Inventories</th>\n",
       "      <th>...</th>\n",
       "      <th>Earnings Per Share</th>\n",
       "      <th>Estimated Shares Outstanding</th>\n",
       "      <th>Time Period Ending</th>\n",
       "      <th>Target</th>\n",
       "      <th>Cash Ratio_is_missing</th>\n",
       "      <th>Current Ratio_is_missing</th>\n",
       "      <th>Quick Ratio_is_missing</th>\n",
       "      <th>For Year_is_missing</th>\n",
       "      <th>Earnings Per Share_is_missing</th>\n",
       "      <th>Estimated Shares Outstanding_is_missing</th>\n",
       "    </tr>\n",
       "  </thead>\n",
       "  <tbody>\n",
       "    <tr>\n",
       "      <th>0</th>\n",
       "      <td>AAL</td>\n",
       "      <td>3.068000e+09</td>\n",
       "      <td>-2.220000e+08</td>\n",
       "      <td>-1.961000e+09</td>\n",
       "      <td>23.0</td>\n",
       "      <td>-1.888000e+09</td>\n",
       "      <td>4.695000e+09</td>\n",
       "      <td>53.0</td>\n",
       "      <td>1.330000e+09</td>\n",
       "      <td>0.000000e+00</td>\n",
       "      <td>...</td>\n",
       "      <td>-5.60</td>\n",
       "      <td>3.350000e+08</td>\n",
       "      <td>2012-12-31</td>\n",
       "      <td>13.500000</td>\n",
       "      <td>False</td>\n",
       "      <td>False</td>\n",
       "      <td>False</td>\n",
       "      <td>False</td>\n",
       "      <td>False</td>\n",
       "      <td>False</td>\n",
       "    </tr>\n",
       "    <tr>\n",
       "      <th>1</th>\n",
       "      <td>AAL</td>\n",
       "      <td>4.975000e+09</td>\n",
       "      <td>-9.300000e+07</td>\n",
       "      <td>-2.723000e+09</td>\n",
       "      <td>67.0</td>\n",
       "      <td>-3.114000e+09</td>\n",
       "      <td>1.059200e+10</td>\n",
       "      <td>75.0</td>\n",
       "      <td>2.175000e+09</td>\n",
       "      <td>0.000000e+00</td>\n",
       "      <td>...</td>\n",
       "      <td>-11.25</td>\n",
       "      <td>1.630222e+08</td>\n",
       "      <td>2013-12-31</td>\n",
       "      <td>25.250000</td>\n",
       "      <td>False</td>\n",
       "      <td>False</td>\n",
       "      <td>False</td>\n",
       "      <td>False</td>\n",
       "      <td>False</td>\n",
       "      <td>False</td>\n",
       "    </tr>\n",
       "    <tr>\n",
       "      <th>2</th>\n",
       "      <td>AAL</td>\n",
       "      <td>4.668000e+09</td>\n",
       "      <td>-1.600000e+08</td>\n",
       "      <td>-1.500000e+08</td>\n",
       "      <td>143.0</td>\n",
       "      <td>-5.311000e+09</td>\n",
       "      <td>1.513500e+10</td>\n",
       "      <td>60.0</td>\n",
       "      <td>1.768000e+09</td>\n",
       "      <td>0.000000e+00</td>\n",
       "      <td>...</td>\n",
       "      <td>4.02</td>\n",
       "      <td>7.169154e+08</td>\n",
       "      <td>2014-12-31</td>\n",
       "      <td>53.630001</td>\n",
       "      <td>False</td>\n",
       "      <td>False</td>\n",
       "      <td>False</td>\n",
       "      <td>False</td>\n",
       "      <td>False</td>\n",
       "      <td>False</td>\n",
       "    </tr>\n",
       "    <tr>\n",
       "      <th>3</th>\n",
       "      <td>AAL</td>\n",
       "      <td>5.102000e+09</td>\n",
       "      <td>3.520000e+08</td>\n",
       "      <td>-7.080000e+08</td>\n",
       "      <td>135.0</td>\n",
       "      <td>-6.151000e+09</td>\n",
       "      <td>1.159100e+10</td>\n",
       "      <td>51.0</td>\n",
       "      <td>1.085000e+09</td>\n",
       "      <td>0.000000e+00</td>\n",
       "      <td>...</td>\n",
       "      <td>11.39</td>\n",
       "      <td>6.681299e+08</td>\n",
       "      <td>2015-12-31</td>\n",
       "      <td>42.349998</td>\n",
       "      <td>False</td>\n",
       "      <td>False</td>\n",
       "      <td>False</td>\n",
       "      <td>False</td>\n",
       "      <td>False</td>\n",
       "      <td>False</td>\n",
       "    </tr>\n",
       "    <tr>\n",
       "      <th>15</th>\n",
       "      <td>ABBV</td>\n",
       "      <td>8.463000e+09</td>\n",
       "      <td>-1.076000e+09</td>\n",
       "      <td>-2.060000e+08</td>\n",
       "      <td>130.0</td>\n",
       "      <td>-5.320000e+08</td>\n",
       "      <td>1.308000e+10</td>\n",
       "      <td>77.0</td>\n",
       "      <td>8.399000e+09</td>\n",
       "      <td>-4.340000e+08</td>\n",
       "      <td>...</td>\n",
       "      <td>3.15</td>\n",
       "      <td>1.633016e+09</td>\n",
       "      <td>2015-12-31</td>\n",
       "      <td>59.240002</td>\n",
       "      <td>False</td>\n",
       "      <td>False</td>\n",
       "      <td>False</td>\n",
       "      <td>False</td>\n",
       "      <td>False</td>\n",
       "      <td>False</td>\n",
       "    </tr>\n",
       "    <tr>\n",
       "      <th>14</th>\n",
       "      <td>ABBV</td>\n",
       "      <td>6.954000e+09</td>\n",
       "      <td>-1.720000e+08</td>\n",
       "      <td>-6.510000e+08</td>\n",
       "      <td>102.0</td>\n",
       "      <td>-6.120000e+08</td>\n",
       "      <td>4.194000e+09</td>\n",
       "      <td>74.0</td>\n",
       "      <td>8.348000e+09</td>\n",
       "      <td>-2.030000e+08</td>\n",
       "      <td>...</td>\n",
       "      <td>1.11</td>\n",
       "      <td>1.598198e+09</td>\n",
       "      <td>2014-12-31</td>\n",
       "      <td>65.440002</td>\n",
       "      <td>False</td>\n",
       "      <td>False</td>\n",
       "      <td>False</td>\n",
       "      <td>False</td>\n",
       "      <td>False</td>\n",
       "      <td>False</td>\n",
       "    </tr>\n",
       "    <tr>\n",
       "      <th>13</th>\n",
       "      <td>ABBV</td>\n",
       "      <td>6.448000e+09</td>\n",
       "      <td>6.810000e+08</td>\n",
       "      <td>-5.400000e+07</td>\n",
       "      <td>92.0</td>\n",
       "      <td>-4.910000e+08</td>\n",
       "      <td>3.671000e+09</td>\n",
       "      <td>144.0</td>\n",
       "      <td>9.595000e+09</td>\n",
       "      <td>-5.600000e+07</td>\n",
       "      <td>...</td>\n",
       "      <td>2.58</td>\n",
       "      <td>1.600000e+09</td>\n",
       "      <td>2013-12-31</td>\n",
       "      <td>52.810001</td>\n",
       "      <td>False</td>\n",
       "      <td>False</td>\n",
       "      <td>False</td>\n",
       "      <td>False</td>\n",
       "      <td>False</td>\n",
       "      <td>False</td>\n",
       "    </tr>\n",
       "    <tr>\n",
       "      <th>16</th>\n",
       "      <td>ABC</td>\n",
       "      <td>1.487064e+10</td>\n",
       "      <td>-2.312518e+09</td>\n",
       "      <td>-4.400000e+04</td>\n",
       "      <td>19.0</td>\n",
       "      <td>-2.024500e+08</td>\n",
       "      <td>2.360992e+09</td>\n",
       "      <td>8.0</td>\n",
       "      <td>1.231006e+09</td>\n",
       "      <td>-1.486572e+09</td>\n",
       "      <td>...</td>\n",
       "      <td>1.88</td>\n",
       "      <td>2.306952e+08</td>\n",
       "      <td>2013-09-30</td>\n",
       "      <td>61.099998</td>\n",
       "      <td>False</td>\n",
       "      <td>False</td>\n",
       "      <td>False</td>\n",
       "      <td>False</td>\n",
       "      <td>False</td>\n",
       "      <td>False</td>\n",
       "    </tr>\n",
       "    <tr>\n",
       "      <th>17</th>\n",
       "      <td>ABC</td>\n",
       "      <td>1.725016e+10</td>\n",
       "      <td>-9.382860e+08</td>\n",
       "      <td>-2.859400e+07</td>\n",
       "      <td>14.0</td>\n",
       "      <td>-2.644570e+08</td>\n",
       "      <td>2.749185e+09</td>\n",
       "      <td>10.0</td>\n",
       "      <td>1.808513e+09</td>\n",
       "      <td>-1.304569e+09</td>\n",
       "      <td>...</td>\n",
       "      <td>1.22</td>\n",
       "      <td>2.247787e+08</td>\n",
       "      <td>2014-09-30</td>\n",
       "      <td>77.300003</td>\n",
       "      <td>False</td>\n",
       "      <td>False</td>\n",
       "      <td>False</td>\n",
       "      <td>False</td>\n",
       "      <td>False</td>\n",
       "      <td>False</td>\n",
       "    </tr>\n",
       "    <tr>\n",
       "      <th>18</th>\n",
       "      <td>ABC</td>\n",
       "      <td>2.157823e+10</td>\n",
       "      <td>-1.478793e+09</td>\n",
       "      <td>-4.422000e+07</td>\n",
       "      <td>22.0</td>\n",
       "      <td>-2.315850e+08</td>\n",
       "      <td>3.736477e+09</td>\n",
       "      <td>10.0</td>\n",
       "      <td>2.167442e+09</td>\n",
       "      <td>-1.379189e+09</td>\n",
       "      <td>...</td>\n",
       "      <td>-0.62</td>\n",
       "      <td>2.228468e+08</td>\n",
       "      <td>2015-09-30</td>\n",
       "      <td>94.989998</td>\n",
       "      <td>False</td>\n",
       "      <td>False</td>\n",
       "      <td>False</td>\n",
       "      <td>False</td>\n",
       "      <td>False</td>\n",
       "      <td>False</td>\n",
       "    </tr>\n",
       "  </tbody>\n",
       "</table>\n",
       "<p>10 rows × 85 columns</p>\n",
       "</div>"
      ],
      "text/plain": [
       "   Ticker Symbol  Accounts Payable  Accounts Receivable  \\\n",
       "0            AAL      3.068000e+09        -2.220000e+08   \n",
       "1            AAL      4.975000e+09        -9.300000e+07   \n",
       "2            AAL      4.668000e+09        -1.600000e+08   \n",
       "3            AAL      5.102000e+09         3.520000e+08   \n",
       "15          ABBV      8.463000e+09        -1.076000e+09   \n",
       "14          ABBV      6.954000e+09        -1.720000e+08   \n",
       "13          ABBV      6.448000e+09         6.810000e+08   \n",
       "16           ABC      1.487064e+10        -2.312518e+09   \n",
       "17           ABC      1.725016e+10        -9.382860e+08   \n",
       "18           ABC      2.157823e+10        -1.478793e+09   \n",
       "\n",
       "    Add'l income/expense items  After Tax ROE  Capital Expenditures  \\\n",
       "0                -1.961000e+09           23.0         -1.888000e+09   \n",
       "1                -2.723000e+09           67.0         -3.114000e+09   \n",
       "2                -1.500000e+08          143.0         -5.311000e+09   \n",
       "3                -7.080000e+08          135.0         -6.151000e+09   \n",
       "15               -2.060000e+08          130.0         -5.320000e+08   \n",
       "14               -6.510000e+08          102.0         -6.120000e+08   \n",
       "13               -5.400000e+07           92.0         -4.910000e+08   \n",
       "16               -4.400000e+04           19.0         -2.024500e+08   \n",
       "17               -2.859400e+07           14.0         -2.644570e+08   \n",
       "18               -4.422000e+07           22.0         -2.315850e+08   \n",
       "\n",
       "    Capital Surplus  Cash Ratio  Cash and Cash Equivalents  \\\n",
       "0      4.695000e+09        53.0               1.330000e+09   \n",
       "1      1.059200e+10        75.0               2.175000e+09   \n",
       "2      1.513500e+10        60.0               1.768000e+09   \n",
       "3      1.159100e+10        51.0               1.085000e+09   \n",
       "15     1.308000e+10        77.0               8.399000e+09   \n",
       "14     4.194000e+09        74.0               8.348000e+09   \n",
       "13     3.671000e+09       144.0               9.595000e+09   \n",
       "16     2.360992e+09         8.0               1.231006e+09   \n",
       "17     2.749185e+09        10.0               1.808513e+09   \n",
       "18     3.736477e+09        10.0               2.167442e+09   \n",
       "\n",
       "    Changes in Inventories  ...  Earnings Per Share  \\\n",
       "0             0.000000e+00  ...               -5.60   \n",
       "1             0.000000e+00  ...              -11.25   \n",
       "2             0.000000e+00  ...                4.02   \n",
       "3             0.000000e+00  ...               11.39   \n",
       "15           -4.340000e+08  ...                3.15   \n",
       "14           -2.030000e+08  ...                1.11   \n",
       "13           -5.600000e+07  ...                2.58   \n",
       "16           -1.486572e+09  ...                1.88   \n",
       "17           -1.304569e+09  ...                1.22   \n",
       "18           -1.379189e+09  ...               -0.62   \n",
       "\n",
       "    Estimated Shares Outstanding  Time Period Ending     Target  \\\n",
       "0                   3.350000e+08          2012-12-31  13.500000   \n",
       "1                   1.630222e+08          2013-12-31  25.250000   \n",
       "2                   7.169154e+08          2014-12-31  53.630001   \n",
       "3                   6.681299e+08          2015-12-31  42.349998   \n",
       "15                  1.633016e+09          2015-12-31  59.240002   \n",
       "14                  1.598198e+09          2014-12-31  65.440002   \n",
       "13                  1.600000e+09          2013-12-31  52.810001   \n",
       "16                  2.306952e+08          2013-09-30  61.099998   \n",
       "17                  2.247787e+08          2014-09-30  77.300003   \n",
       "18                  2.228468e+08          2015-09-30  94.989998   \n",
       "\n",
       "    Cash Ratio_is_missing  Current Ratio_is_missing  Quick Ratio_is_missing  \\\n",
       "0                   False                     False                   False   \n",
       "1                   False                     False                   False   \n",
       "2                   False                     False                   False   \n",
       "3                   False                     False                   False   \n",
       "15                  False                     False                   False   \n",
       "14                  False                     False                   False   \n",
       "13                  False                     False                   False   \n",
       "16                  False                     False                   False   \n",
       "17                  False                     False                   False   \n",
       "18                  False                     False                   False   \n",
       "\n",
       "    For Year_is_missing  Earnings Per Share_is_missing  \\\n",
       "0                 False                          False   \n",
       "1                 False                          False   \n",
       "2                 False                          False   \n",
       "3                 False                          False   \n",
       "15                False                          False   \n",
       "14                False                          False   \n",
       "13                False                          False   \n",
       "16                False                          False   \n",
       "17                False                          False   \n",
       "18                False                          False   \n",
       "\n",
       "    Estimated Shares Outstanding_is_missing  \n",
       "0                                     False  \n",
       "1                                     False  \n",
       "2                                     False  \n",
       "3                                     False  \n",
       "15                                    False  \n",
       "14                                    False  \n",
       "13                                    False  \n",
       "16                                    False  \n",
       "17                                    False  \n",
       "18                                    False  \n",
       "\n",
       "[10 rows x 85 columns]"
      ]
     },
     "execution_count": 54,
     "metadata": {},
     "output_type": "execute_result"
    }
   ],
   "source": [
    "fundamentals[:10]"
   ]
  },
  {
   "cell_type": "markdown",
   "metadata": {},
   "source": [
    "Now our dataset has the target price column all filled. However, there might be some missing data in the rest of the columns, which we may need to fill in. Let's investigate this further..."
   ]
  },
  {
   "cell_type": "code",
   "execution_count": 55,
   "metadata": {},
   "outputs": [
    {
     "data": {
      "text/plain": [
       "Ticker Symbol                              0\n",
       "Accounts Payable                           0\n",
       "Accounts Receivable                        0\n",
       "Add'l income/expense items                 0\n",
       "After Tax ROE                              0\n",
       "                                          ..\n",
       "Current Ratio_is_missing                   0\n",
       "Quick Ratio_is_missing                     0\n",
       "For Year_is_missing                        0\n",
       "Earnings Per Share_is_missing              0\n",
       "Estimated Shares Outstanding_is_missing    0\n",
       "Length: 85, dtype: int64"
      ]
     },
     "execution_count": 55,
     "metadata": {},
     "output_type": "execute_result"
    }
   ],
   "source": [
    "fundamentals.isna().sum()"
   ]
  },
  {
   "cell_type": "code",
   "execution_count": 56,
   "metadata": {},
   "outputs": [
    {
     "name": "stdout",
     "output_type": "stream",
     "text": [
      "Accounts Payable\n",
      "Accounts Receivable\n",
      "Add'l income/expense items\n",
      "After Tax ROE\n",
      "Capital Expenditures\n",
      "Capital Surplus\n",
      "Cash Ratio\n",
      "Cash and Cash Equivalents\n",
      "Changes in Inventories\n",
      "Common Stocks\n",
      "Cost of Revenue\n",
      "Current Ratio\n",
      "Deferred Asset Charges\n",
      "Deferred Liability Charges\n",
      "Depreciation\n",
      "Earnings Before Interest and Tax\n",
      "Earnings Before Tax\n",
      "Effect of Exchange Rate\n",
      "Equity Earnings/Loss Unconsolidated Subsidiary\n",
      "Fixed Assets\n",
      "Goodwill\n",
      "Gross Margin\n",
      "Gross Profit\n",
      "Income Tax\n",
      "Intangible Assets\n",
      "Interest Expense\n",
      "Inventory\n",
      "Investments\n",
      "Liabilities\n",
      "Long-Term Debt\n",
      "Long-Term Investments\n",
      "Minority Interest\n",
      "Misc. Stocks\n",
      "Net Borrowings\n",
      "Net Cash Flow\n",
      "Net Cash Flow-Operating\n",
      "Net Cash Flows-Financing\n",
      "Net Cash Flows-Investing\n",
      "Net Income\n",
      "Net Income Adjustments\n",
      "Net Income Applicable to Common Shareholders\n",
      "Net Income-Cont. Operations\n",
      "Net Receivables\n",
      "Non-Recurring Items\n",
      "Operating Income\n",
      "Operating Margin\n",
      "Other Assets\n",
      "Other Current Assets\n",
      "Other Current Liabilities\n",
      "Other Equity\n",
      "Other Financing Activities\n",
      "Other Investing Activities\n",
      "Other Liabilities\n",
      "Other Operating Activities\n",
      "Other Operating Items\n",
      "Pre-Tax Margin\n",
      "Pre-Tax ROE\n",
      "Profit Margin\n",
      "Quick Ratio\n",
      "Research and Development\n",
      "Retained Earnings\n",
      "Sale and Purchase of Stock\n",
      "Sales, General and Admin.\n",
      "Short-Term Debt / Current Portion of Long-Term Debt\n",
      "Short-Term Investments\n",
      "Total Assets\n",
      "Total Current Assets\n",
      "Total Current Liabilities\n",
      "Total Equity\n",
      "Total Liabilities\n",
      "Total Liabilities & Equity\n",
      "Total Revenue\n",
      "Treasury Stock\n",
      "For Year\n",
      "Earnings Per Share\n",
      "Estimated Shares Outstanding\n",
      "Target\n",
      "Cash Ratio_is_missing\n",
      "Current Ratio_is_missing\n",
      "Quick Ratio_is_missing\n",
      "For Year_is_missing\n",
      "Earnings Per Share_is_missing\n",
      "Estimated Shares Outstanding_is_missing\n"
     ]
    }
   ],
   "source": [
    "# Let's investigate which of our data is currently numeric\n",
    "for label, content in fundamentals.items():\n",
    "    if pd.api.types.is_numeric_dtype(content):\n",
    "        print(label)"
   ]
  },
  {
   "cell_type": "code",
   "execution_count": 58,
   "metadata": {},
   "outputs": [],
   "source": [
    "# Let's check which numeric columns have missing data\n",
    "for label, content in fundamentals.items():\n",
    "    if pd.api.types.is_numeric_dtype(content):\n",
    "        if pd.isnull(content).sum():\n",
    "            print(label)"
   ]
  },
  {
   "cell_type": "markdown",
   "metadata": {},
   "source": [
    "Our dataframe is already a little short - only about 1350 rows after deleting the rows missing a price attribute, so simply removing all these rows where there is no data is probably not going to leave us very much data. Instead, we might as well fill these missing data with the medians of their respective columns - there is a large diversity of companies (big and small) on the NYSE, so taking the median should give us a decent estimate for all of these parameters. Let's implement this filling in the next cell."
   ]
  },
  {
   "cell_type": "code",
   "execution_count": 49,
   "metadata": {},
   "outputs": [],
   "source": [
    "# Fill numeric rows with the median\n",
    "for label, content in fundamentals.items():\n",
    "    if pd.api.types.is_numeric_dtype(content):\n",
    "        if pd.isnull(content).sum():\n",
    "            # Add a binary column which tells us if the data was missing or not\n",
    "            fundamentals[label+\"_is_missing\"] = pd.isnull(content)\n",
    "            # Fill missing numeric values with median\n",
    "            fundamentals[label] = content.fillna(content.median())"
   ]
  },
  {
   "cell_type": "code",
   "execution_count": 59,
   "metadata": {},
   "outputs": [],
   "source": [
    "# Let's check which numeric columns have missing data\n",
    "for label, content in fundamentals.items():\n",
    "    if pd.api.types.is_numeric_dtype(content):\n",
    "        if pd.isnull(content).sum():\n",
    "            print(label)"
   ]
  },
  {
   "cell_type": "markdown",
   "metadata": {},
   "source": [
    "This is great, no output from the previous cell means none of our numeric columns have any missing data anymore. Time to investigate any non-numeric columns, and fill them in too."
   ]
  },
  {
   "cell_type": "code",
   "execution_count": 60,
   "metadata": {},
   "outputs": [
    {
     "data": {
      "text/plain": [
       "Ticker Symbol                              0\n",
       "Accounts Payable                           0\n",
       "Accounts Receivable                        0\n",
       "Add'l income/expense items                 0\n",
       "After Tax ROE                              0\n",
       "                                          ..\n",
       "Current Ratio_is_missing                   0\n",
       "Quick Ratio_is_missing                     0\n",
       "For Year_is_missing                        0\n",
       "Earnings Per Share_is_missing              0\n",
       "Estimated Shares Outstanding_is_missing    0\n",
       "Length: 85, dtype: int64"
      ]
     },
     "execution_count": 60,
     "metadata": {},
     "output_type": "execute_result"
    }
   ],
   "source": [
    "fundamentals.isna().sum()"
   ]
  },
  {
   "cell_type": "code",
   "execution_count": 61,
   "metadata": {},
   "outputs": [
    {
     "name": "stdout",
     "output_type": "stream",
     "text": [
      "Ticker Symbol\n",
      "Time Period Ending\n"
     ]
    }
   ],
   "source": [
    "# Check for columns which aren't numeric\n",
    "for label, content in fundamentals.items():\n",
    "    if not pd.api.types.is_numeric_dtype(content):\n",
    "        print(label)"
   ]
  },
  {
   "cell_type": "markdown",
   "metadata": {},
   "source": [
    "As we can see above, all the ticker symbols and time period ending are filled with data. Every other column is numeric, and there are no missing numeric values. This is amazing - our dataframe now has no missing values at all. However, our model will not be able to train if there are some non numerical columns. Our next step, therefore, is to convert ticker symbol and time period ending into numbers."
   ]
  },
  {
   "cell_type": "code",
   "execution_count": 67,
   "metadata": {},
   "outputs": [
    {
     "data": {
      "text/plain": [
       "0     2012-12-31\n",
       "1     2013-12-31\n",
       "2     2014-12-31\n",
       "3     2015-12-31\n",
       "15    2015-12-31\n",
       "Name: Time Period Ending, dtype: object"
      ]
     },
     "execution_count": 67,
     "metadata": {},
     "output_type": "execute_result"
    }
   ],
   "source": [
    "fundamentals[\"Time Period Ending\"].head()"
   ]
  },
  {
   "cell_type": "markdown",
   "metadata": {},
   "source": [
    " Let's first fix the Time Period Ending column"
   ]
  },
  {
   "cell_type": "code",
   "execution_count": 72,
   "metadata": {},
   "outputs": [],
   "source": [
    "# we convert it to pandas datetime format so we can call some useful methods on it\n",
    "fundamentals[\"Time Period Ending\"] = pd.to_datetime(fundamentals[\"Time Period Ending\"])"
   ]
  },
  {
   "cell_type": "code",
   "execution_count": 73,
   "metadata": {},
   "outputs": [],
   "source": [
    "# we split the date of period ending into three separate numbers we can put in different columns\n",
    "fundamentals[\"Period Ending Year\"] = fundamentals[\"Time Period Ending\"].dt.year\n",
    "fundamentals[\"Period Ending Month\"] = fundamentals[\"Time Period Ending\"].dt.month\n",
    "fundamentals[\"Period Ending Day\"] = fundamentals[\"Time Period Ending\"].dt.day"
   ]
  },
  {
   "cell_type": "code",
   "execution_count": 74,
   "metadata": {},
   "outputs": [
    {
     "data": {
      "text/html": [
       "<div>\n",
       "<style scoped>\n",
       "    .dataframe tbody tr th:only-of-type {\n",
       "        vertical-align: middle;\n",
       "    }\n",
       "\n",
       "    .dataframe tbody tr th {\n",
       "        vertical-align: top;\n",
       "    }\n",
       "\n",
       "    .dataframe thead th {\n",
       "        text-align: right;\n",
       "    }\n",
       "</style>\n",
       "<table border=\"1\" class=\"dataframe\">\n",
       "  <thead>\n",
       "    <tr style=\"text-align: right;\">\n",
       "      <th></th>\n",
       "      <th>Ticker Symbol</th>\n",
       "      <th>Accounts Payable</th>\n",
       "      <th>Accounts Receivable</th>\n",
       "      <th>Add'l income/expense items</th>\n",
       "      <th>After Tax ROE</th>\n",
       "      <th>Capital Expenditures</th>\n",
       "      <th>Capital Surplus</th>\n",
       "      <th>Cash Ratio</th>\n",
       "      <th>Cash and Cash Equivalents</th>\n",
       "      <th>Changes in Inventories</th>\n",
       "      <th>...</th>\n",
       "      <th>Target</th>\n",
       "      <th>Cash Ratio_is_missing</th>\n",
       "      <th>Current Ratio_is_missing</th>\n",
       "      <th>Quick Ratio_is_missing</th>\n",
       "      <th>For Year_is_missing</th>\n",
       "      <th>Earnings Per Share_is_missing</th>\n",
       "      <th>Estimated Shares Outstanding_is_missing</th>\n",
       "      <th>Period Ending Year</th>\n",
       "      <th>Period Ending Month</th>\n",
       "      <th>Period Ending Day</th>\n",
       "    </tr>\n",
       "  </thead>\n",
       "  <tbody>\n",
       "    <tr>\n",
       "      <th>0</th>\n",
       "      <td>AAL</td>\n",
       "      <td>3.068000e+09</td>\n",
       "      <td>-2.220000e+08</td>\n",
       "      <td>-1.961000e+09</td>\n",
       "      <td>23.0</td>\n",
       "      <td>-1.888000e+09</td>\n",
       "      <td>4.695000e+09</td>\n",
       "      <td>53.0</td>\n",
       "      <td>1.330000e+09</td>\n",
       "      <td>0.0</td>\n",
       "      <td>...</td>\n",
       "      <td>13.500000</td>\n",
       "      <td>False</td>\n",
       "      <td>False</td>\n",
       "      <td>False</td>\n",
       "      <td>False</td>\n",
       "      <td>False</td>\n",
       "      <td>False</td>\n",
       "      <td>2012</td>\n",
       "      <td>12</td>\n",
       "      <td>31</td>\n",
       "    </tr>\n",
       "    <tr>\n",
       "      <th>1</th>\n",
       "      <td>AAL</td>\n",
       "      <td>4.975000e+09</td>\n",
       "      <td>-9.300000e+07</td>\n",
       "      <td>-2.723000e+09</td>\n",
       "      <td>67.0</td>\n",
       "      <td>-3.114000e+09</td>\n",
       "      <td>1.059200e+10</td>\n",
       "      <td>75.0</td>\n",
       "      <td>2.175000e+09</td>\n",
       "      <td>0.0</td>\n",
       "      <td>...</td>\n",
       "      <td>25.250000</td>\n",
       "      <td>False</td>\n",
       "      <td>False</td>\n",
       "      <td>False</td>\n",
       "      <td>False</td>\n",
       "      <td>False</td>\n",
       "      <td>False</td>\n",
       "      <td>2013</td>\n",
       "      <td>12</td>\n",
       "      <td>31</td>\n",
       "    </tr>\n",
       "    <tr>\n",
       "      <th>2</th>\n",
       "      <td>AAL</td>\n",
       "      <td>4.668000e+09</td>\n",
       "      <td>-1.600000e+08</td>\n",
       "      <td>-1.500000e+08</td>\n",
       "      <td>143.0</td>\n",
       "      <td>-5.311000e+09</td>\n",
       "      <td>1.513500e+10</td>\n",
       "      <td>60.0</td>\n",
       "      <td>1.768000e+09</td>\n",
       "      <td>0.0</td>\n",
       "      <td>...</td>\n",
       "      <td>53.630001</td>\n",
       "      <td>False</td>\n",
       "      <td>False</td>\n",
       "      <td>False</td>\n",
       "      <td>False</td>\n",
       "      <td>False</td>\n",
       "      <td>False</td>\n",
       "      <td>2014</td>\n",
       "      <td>12</td>\n",
       "      <td>31</td>\n",
       "    </tr>\n",
       "    <tr>\n",
       "      <th>3</th>\n",
       "      <td>AAL</td>\n",
       "      <td>5.102000e+09</td>\n",
       "      <td>3.520000e+08</td>\n",
       "      <td>-7.080000e+08</td>\n",
       "      <td>135.0</td>\n",
       "      <td>-6.151000e+09</td>\n",
       "      <td>1.159100e+10</td>\n",
       "      <td>51.0</td>\n",
       "      <td>1.085000e+09</td>\n",
       "      <td>0.0</td>\n",
       "      <td>...</td>\n",
       "      <td>42.349998</td>\n",
       "      <td>False</td>\n",
       "      <td>False</td>\n",
       "      <td>False</td>\n",
       "      <td>False</td>\n",
       "      <td>False</td>\n",
       "      <td>False</td>\n",
       "      <td>2015</td>\n",
       "      <td>12</td>\n",
       "      <td>31</td>\n",
       "    </tr>\n",
       "    <tr>\n",
       "      <th>15</th>\n",
       "      <td>ABBV</td>\n",
       "      <td>8.463000e+09</td>\n",
       "      <td>-1.076000e+09</td>\n",
       "      <td>-2.060000e+08</td>\n",
       "      <td>130.0</td>\n",
       "      <td>-5.320000e+08</td>\n",
       "      <td>1.308000e+10</td>\n",
       "      <td>77.0</td>\n",
       "      <td>8.399000e+09</td>\n",
       "      <td>-434000000.0</td>\n",
       "      <td>...</td>\n",
       "      <td>59.240002</td>\n",
       "      <td>False</td>\n",
       "      <td>False</td>\n",
       "      <td>False</td>\n",
       "      <td>False</td>\n",
       "      <td>False</td>\n",
       "      <td>False</td>\n",
       "      <td>2015</td>\n",
       "      <td>12</td>\n",
       "      <td>31</td>\n",
       "    </tr>\n",
       "  </tbody>\n",
       "</table>\n",
       "<p>5 rows × 88 columns</p>\n",
       "</div>"
      ],
      "text/plain": [
       "   Ticker Symbol  Accounts Payable  Accounts Receivable  \\\n",
       "0            AAL      3.068000e+09        -2.220000e+08   \n",
       "1            AAL      4.975000e+09        -9.300000e+07   \n",
       "2            AAL      4.668000e+09        -1.600000e+08   \n",
       "3            AAL      5.102000e+09         3.520000e+08   \n",
       "15          ABBV      8.463000e+09        -1.076000e+09   \n",
       "\n",
       "    Add'l income/expense items  After Tax ROE  Capital Expenditures  \\\n",
       "0                -1.961000e+09           23.0         -1.888000e+09   \n",
       "1                -2.723000e+09           67.0         -3.114000e+09   \n",
       "2                -1.500000e+08          143.0         -5.311000e+09   \n",
       "3                -7.080000e+08          135.0         -6.151000e+09   \n",
       "15               -2.060000e+08          130.0         -5.320000e+08   \n",
       "\n",
       "    Capital Surplus  Cash Ratio  Cash and Cash Equivalents  \\\n",
       "0      4.695000e+09        53.0               1.330000e+09   \n",
       "1      1.059200e+10        75.0               2.175000e+09   \n",
       "2      1.513500e+10        60.0               1.768000e+09   \n",
       "3      1.159100e+10        51.0               1.085000e+09   \n",
       "15     1.308000e+10        77.0               8.399000e+09   \n",
       "\n",
       "    Changes in Inventories  ...     Target  Cash Ratio_is_missing  \\\n",
       "0                      0.0  ...  13.500000                  False   \n",
       "1                      0.0  ...  25.250000                  False   \n",
       "2                      0.0  ...  53.630001                  False   \n",
       "3                      0.0  ...  42.349998                  False   \n",
       "15            -434000000.0  ...  59.240002                  False   \n",
       "\n",
       "    Current Ratio_is_missing  Quick Ratio_is_missing  For Year_is_missing  \\\n",
       "0                      False                   False                False   \n",
       "1                      False                   False                False   \n",
       "2                      False                   False                False   \n",
       "3                      False                   False                False   \n",
       "15                     False                   False                False   \n",
       "\n",
       "    Earnings Per Share_is_missing  Estimated Shares Outstanding_is_missing  \\\n",
       "0                           False                                    False   \n",
       "1                           False                                    False   \n",
       "2                           False                                    False   \n",
       "3                           False                                    False   \n",
       "15                          False                                    False   \n",
       "\n",
       "    Period Ending Year  Period Ending Month  Period Ending Day  \n",
       "0                 2012                   12                 31  \n",
       "1                 2013                   12                 31  \n",
       "2                 2014                   12                 31  \n",
       "3                 2015                   12                 31  \n",
       "15                2015                   12                 31  \n",
       "\n",
       "[5 rows x 88 columns]"
      ]
     },
     "execution_count": 74,
     "metadata": {},
     "output_type": "execute_result"
    }
   ],
   "source": [
    "fundamentals.head()"
   ]
  },
  {
   "cell_type": "markdown",
   "metadata": {},
   "source": [
    "Now we have all the Time Period Ending Data in various columns, we can get rid of the original column"
   ]
  },
  {
   "cell_type": "code",
   "execution_count": 75,
   "metadata": {},
   "outputs": [],
   "source": [
    "fundamentals.drop(\"Time Period Ending\", axis=1, inplace=True)"
   ]
  },
  {
   "cell_type": "code",
   "execution_count": 76,
   "metadata": {},
   "outputs": [
    {
     "data": {
      "text/html": [
       "<div>\n",
       "<style scoped>\n",
       "    .dataframe tbody tr th:only-of-type {\n",
       "        vertical-align: middle;\n",
       "    }\n",
       "\n",
       "    .dataframe tbody tr th {\n",
       "        vertical-align: top;\n",
       "    }\n",
       "\n",
       "    .dataframe thead th {\n",
       "        text-align: right;\n",
       "    }\n",
       "</style>\n",
       "<table border=\"1\" class=\"dataframe\">\n",
       "  <thead>\n",
       "    <tr style=\"text-align: right;\">\n",
       "      <th></th>\n",
       "      <th>Ticker Symbol</th>\n",
       "      <th>Accounts Payable</th>\n",
       "      <th>Accounts Receivable</th>\n",
       "      <th>Add'l income/expense items</th>\n",
       "      <th>After Tax ROE</th>\n",
       "      <th>Capital Expenditures</th>\n",
       "      <th>Capital Surplus</th>\n",
       "      <th>Cash Ratio</th>\n",
       "      <th>Cash and Cash Equivalents</th>\n",
       "      <th>Changes in Inventories</th>\n",
       "      <th>...</th>\n",
       "      <th>Target</th>\n",
       "      <th>Cash Ratio_is_missing</th>\n",
       "      <th>Current Ratio_is_missing</th>\n",
       "      <th>Quick Ratio_is_missing</th>\n",
       "      <th>For Year_is_missing</th>\n",
       "      <th>Earnings Per Share_is_missing</th>\n",
       "      <th>Estimated Shares Outstanding_is_missing</th>\n",
       "      <th>Period Ending Year</th>\n",
       "      <th>Period Ending Month</th>\n",
       "      <th>Period Ending Day</th>\n",
       "    </tr>\n",
       "  </thead>\n",
       "  <tbody>\n",
       "    <tr>\n",
       "      <th>0</th>\n",
       "      <td>AAL</td>\n",
       "      <td>3.068000e+09</td>\n",
       "      <td>-2.220000e+08</td>\n",
       "      <td>-1.961000e+09</td>\n",
       "      <td>23.0</td>\n",
       "      <td>-1.888000e+09</td>\n",
       "      <td>4.695000e+09</td>\n",
       "      <td>53.0</td>\n",
       "      <td>1.330000e+09</td>\n",
       "      <td>0.0</td>\n",
       "      <td>...</td>\n",
       "      <td>13.500000</td>\n",
       "      <td>False</td>\n",
       "      <td>False</td>\n",
       "      <td>False</td>\n",
       "      <td>False</td>\n",
       "      <td>False</td>\n",
       "      <td>False</td>\n",
       "      <td>2012</td>\n",
       "      <td>12</td>\n",
       "      <td>31</td>\n",
       "    </tr>\n",
       "    <tr>\n",
       "      <th>1</th>\n",
       "      <td>AAL</td>\n",
       "      <td>4.975000e+09</td>\n",
       "      <td>-9.300000e+07</td>\n",
       "      <td>-2.723000e+09</td>\n",
       "      <td>67.0</td>\n",
       "      <td>-3.114000e+09</td>\n",
       "      <td>1.059200e+10</td>\n",
       "      <td>75.0</td>\n",
       "      <td>2.175000e+09</td>\n",
       "      <td>0.0</td>\n",
       "      <td>...</td>\n",
       "      <td>25.250000</td>\n",
       "      <td>False</td>\n",
       "      <td>False</td>\n",
       "      <td>False</td>\n",
       "      <td>False</td>\n",
       "      <td>False</td>\n",
       "      <td>False</td>\n",
       "      <td>2013</td>\n",
       "      <td>12</td>\n",
       "      <td>31</td>\n",
       "    </tr>\n",
       "    <tr>\n",
       "      <th>2</th>\n",
       "      <td>AAL</td>\n",
       "      <td>4.668000e+09</td>\n",
       "      <td>-1.600000e+08</td>\n",
       "      <td>-1.500000e+08</td>\n",
       "      <td>143.0</td>\n",
       "      <td>-5.311000e+09</td>\n",
       "      <td>1.513500e+10</td>\n",
       "      <td>60.0</td>\n",
       "      <td>1.768000e+09</td>\n",
       "      <td>0.0</td>\n",
       "      <td>...</td>\n",
       "      <td>53.630001</td>\n",
       "      <td>False</td>\n",
       "      <td>False</td>\n",
       "      <td>False</td>\n",
       "      <td>False</td>\n",
       "      <td>False</td>\n",
       "      <td>False</td>\n",
       "      <td>2014</td>\n",
       "      <td>12</td>\n",
       "      <td>31</td>\n",
       "    </tr>\n",
       "    <tr>\n",
       "      <th>3</th>\n",
       "      <td>AAL</td>\n",
       "      <td>5.102000e+09</td>\n",
       "      <td>3.520000e+08</td>\n",
       "      <td>-7.080000e+08</td>\n",
       "      <td>135.0</td>\n",
       "      <td>-6.151000e+09</td>\n",
       "      <td>1.159100e+10</td>\n",
       "      <td>51.0</td>\n",
       "      <td>1.085000e+09</td>\n",
       "      <td>0.0</td>\n",
       "      <td>...</td>\n",
       "      <td>42.349998</td>\n",
       "      <td>False</td>\n",
       "      <td>False</td>\n",
       "      <td>False</td>\n",
       "      <td>False</td>\n",
       "      <td>False</td>\n",
       "      <td>False</td>\n",
       "      <td>2015</td>\n",
       "      <td>12</td>\n",
       "      <td>31</td>\n",
       "    </tr>\n",
       "    <tr>\n",
       "      <th>15</th>\n",
       "      <td>ABBV</td>\n",
       "      <td>8.463000e+09</td>\n",
       "      <td>-1.076000e+09</td>\n",
       "      <td>-2.060000e+08</td>\n",
       "      <td>130.0</td>\n",
       "      <td>-5.320000e+08</td>\n",
       "      <td>1.308000e+10</td>\n",
       "      <td>77.0</td>\n",
       "      <td>8.399000e+09</td>\n",
       "      <td>-434000000.0</td>\n",
       "      <td>...</td>\n",
       "      <td>59.240002</td>\n",
       "      <td>False</td>\n",
       "      <td>False</td>\n",
       "      <td>False</td>\n",
       "      <td>False</td>\n",
       "      <td>False</td>\n",
       "      <td>False</td>\n",
       "      <td>2015</td>\n",
       "      <td>12</td>\n",
       "      <td>31</td>\n",
       "    </tr>\n",
       "  </tbody>\n",
       "</table>\n",
       "<p>5 rows × 87 columns</p>\n",
       "</div>"
      ],
      "text/plain": [
       "   Ticker Symbol  Accounts Payable  Accounts Receivable  \\\n",
       "0            AAL      3.068000e+09        -2.220000e+08   \n",
       "1            AAL      4.975000e+09        -9.300000e+07   \n",
       "2            AAL      4.668000e+09        -1.600000e+08   \n",
       "3            AAL      5.102000e+09         3.520000e+08   \n",
       "15          ABBV      8.463000e+09        -1.076000e+09   \n",
       "\n",
       "    Add'l income/expense items  After Tax ROE  Capital Expenditures  \\\n",
       "0                -1.961000e+09           23.0         -1.888000e+09   \n",
       "1                -2.723000e+09           67.0         -3.114000e+09   \n",
       "2                -1.500000e+08          143.0         -5.311000e+09   \n",
       "3                -7.080000e+08          135.0         -6.151000e+09   \n",
       "15               -2.060000e+08          130.0         -5.320000e+08   \n",
       "\n",
       "    Capital Surplus  Cash Ratio  Cash and Cash Equivalents  \\\n",
       "0      4.695000e+09        53.0               1.330000e+09   \n",
       "1      1.059200e+10        75.0               2.175000e+09   \n",
       "2      1.513500e+10        60.0               1.768000e+09   \n",
       "3      1.159100e+10        51.0               1.085000e+09   \n",
       "15     1.308000e+10        77.0               8.399000e+09   \n",
       "\n",
       "    Changes in Inventories  ...     Target  Cash Ratio_is_missing  \\\n",
       "0                      0.0  ...  13.500000                  False   \n",
       "1                      0.0  ...  25.250000                  False   \n",
       "2                      0.0  ...  53.630001                  False   \n",
       "3                      0.0  ...  42.349998                  False   \n",
       "15            -434000000.0  ...  59.240002                  False   \n",
       "\n",
       "    Current Ratio_is_missing  Quick Ratio_is_missing  For Year_is_missing  \\\n",
       "0                      False                   False                False   \n",
       "1                      False                   False                False   \n",
       "2                      False                   False                False   \n",
       "3                      False                   False                False   \n",
       "15                     False                   False                False   \n",
       "\n",
       "    Earnings Per Share_is_missing  Estimated Shares Outstanding_is_missing  \\\n",
       "0                           False                                    False   \n",
       "1                           False                                    False   \n",
       "2                           False                                    False   \n",
       "3                           False                                    False   \n",
       "15                          False                                    False   \n",
       "\n",
       "    Period Ending Year  Period Ending Month  Period Ending Day  \n",
       "0                 2012                   12                 31  \n",
       "1                 2013                   12                 31  \n",
       "2                 2014                   12                 31  \n",
       "3                 2015                   12                 31  \n",
       "15                2015                   12                 31  \n",
       "\n",
       "[5 rows x 87 columns]"
      ]
     },
     "execution_count": 76,
     "metadata": {},
     "output_type": "execute_result"
    }
   ],
   "source": [
    "fundamentals.head()"
   ]
  },
  {
   "cell_type": "markdown",
   "metadata": {},
   "source": [
    "Now we have to convert our ticker symbols to numeric"
   ]
  },
  {
   "cell_type": "code",
   "execution_count": 77,
   "metadata": {},
   "outputs": [],
   "source": [
    "# Turn categorical variables into numbers and fill missing\n",
    "for label, content in fundamentals.items():\n",
    "    if not pd.api.types.is_numeric_dtype(content):\n",
    "        # Turn categories into numbers and add +1\n",
    "        fundamentals[label] = pd.Categorical(content).codes+1"
   ]
  },
  {
   "cell_type": "code",
   "execution_count": 78,
   "metadata": {},
   "outputs": [],
   "source": [
    "# Find the columns which contain strings\n",
    "for label, content in fundamentals.items():\n",
    "    if not pd.api.types.is_numeric_dtype(content):\n",
    "        print(label)"
   ]
  },
  {
   "cell_type": "code",
   "execution_count": 79,
   "metadata": {},
   "outputs": [
    {
     "data": {
      "text/html": [
       "<div>\n",
       "<style scoped>\n",
       "    .dataframe tbody tr th:only-of-type {\n",
       "        vertical-align: middle;\n",
       "    }\n",
       "\n",
       "    .dataframe tbody tr th {\n",
       "        vertical-align: top;\n",
       "    }\n",
       "\n",
       "    .dataframe thead th {\n",
       "        text-align: right;\n",
       "    }\n",
       "</style>\n",
       "<table border=\"1\" class=\"dataframe\">\n",
       "  <thead>\n",
       "    <tr style=\"text-align: right;\">\n",
       "      <th></th>\n",
       "      <th>Ticker Symbol</th>\n",
       "      <th>Accounts Payable</th>\n",
       "      <th>Accounts Receivable</th>\n",
       "      <th>Add'l income/expense items</th>\n",
       "      <th>After Tax ROE</th>\n",
       "      <th>Capital Expenditures</th>\n",
       "      <th>Capital Surplus</th>\n",
       "      <th>Cash Ratio</th>\n",
       "      <th>Cash and Cash Equivalents</th>\n",
       "      <th>Changes in Inventories</th>\n",
       "      <th>...</th>\n",
       "      <th>Target</th>\n",
       "      <th>Cash Ratio_is_missing</th>\n",
       "      <th>Current Ratio_is_missing</th>\n",
       "      <th>Quick Ratio_is_missing</th>\n",
       "      <th>For Year_is_missing</th>\n",
       "      <th>Earnings Per Share_is_missing</th>\n",
       "      <th>Estimated Shares Outstanding_is_missing</th>\n",
       "      <th>Period Ending Year</th>\n",
       "      <th>Period Ending Month</th>\n",
       "      <th>Period Ending Day</th>\n",
       "    </tr>\n",
       "  </thead>\n",
       "  <tbody>\n",
       "    <tr>\n",
       "      <th>0</th>\n",
       "      <td>1</td>\n",
       "      <td>3.068000e+09</td>\n",
       "      <td>-2.220000e+08</td>\n",
       "      <td>-1.961000e+09</td>\n",
       "      <td>23.0</td>\n",
       "      <td>-1.888000e+09</td>\n",
       "      <td>4.695000e+09</td>\n",
       "      <td>53.0</td>\n",
       "      <td>1.330000e+09</td>\n",
       "      <td>0.0</td>\n",
       "      <td>...</td>\n",
       "      <td>13.500000</td>\n",
       "      <td>False</td>\n",
       "      <td>False</td>\n",
       "      <td>False</td>\n",
       "      <td>False</td>\n",
       "      <td>False</td>\n",
       "      <td>False</td>\n",
       "      <td>2012</td>\n",
       "      <td>12</td>\n",
       "      <td>31</td>\n",
       "    </tr>\n",
       "    <tr>\n",
       "      <th>1</th>\n",
       "      <td>1</td>\n",
       "      <td>4.975000e+09</td>\n",
       "      <td>-9.300000e+07</td>\n",
       "      <td>-2.723000e+09</td>\n",
       "      <td>67.0</td>\n",
       "      <td>-3.114000e+09</td>\n",
       "      <td>1.059200e+10</td>\n",
       "      <td>75.0</td>\n",
       "      <td>2.175000e+09</td>\n",
       "      <td>0.0</td>\n",
       "      <td>...</td>\n",
       "      <td>25.250000</td>\n",
       "      <td>False</td>\n",
       "      <td>False</td>\n",
       "      <td>False</td>\n",
       "      <td>False</td>\n",
       "      <td>False</td>\n",
       "      <td>False</td>\n",
       "      <td>2013</td>\n",
       "      <td>12</td>\n",
       "      <td>31</td>\n",
       "    </tr>\n",
       "    <tr>\n",
       "      <th>2</th>\n",
       "      <td>1</td>\n",
       "      <td>4.668000e+09</td>\n",
       "      <td>-1.600000e+08</td>\n",
       "      <td>-1.500000e+08</td>\n",
       "      <td>143.0</td>\n",
       "      <td>-5.311000e+09</td>\n",
       "      <td>1.513500e+10</td>\n",
       "      <td>60.0</td>\n",
       "      <td>1.768000e+09</td>\n",
       "      <td>0.0</td>\n",
       "      <td>...</td>\n",
       "      <td>53.630001</td>\n",
       "      <td>False</td>\n",
       "      <td>False</td>\n",
       "      <td>False</td>\n",
       "      <td>False</td>\n",
       "      <td>False</td>\n",
       "      <td>False</td>\n",
       "      <td>2014</td>\n",
       "      <td>12</td>\n",
       "      <td>31</td>\n",
       "    </tr>\n",
       "    <tr>\n",
       "      <th>3</th>\n",
       "      <td>1</td>\n",
       "      <td>5.102000e+09</td>\n",
       "      <td>3.520000e+08</td>\n",
       "      <td>-7.080000e+08</td>\n",
       "      <td>135.0</td>\n",
       "      <td>-6.151000e+09</td>\n",
       "      <td>1.159100e+10</td>\n",
       "      <td>51.0</td>\n",
       "      <td>1.085000e+09</td>\n",
       "      <td>0.0</td>\n",
       "      <td>...</td>\n",
       "      <td>42.349998</td>\n",
       "      <td>False</td>\n",
       "      <td>False</td>\n",
       "      <td>False</td>\n",
       "      <td>False</td>\n",
       "      <td>False</td>\n",
       "      <td>False</td>\n",
       "      <td>2015</td>\n",
       "      <td>12</td>\n",
       "      <td>31</td>\n",
       "    </tr>\n",
       "    <tr>\n",
       "      <th>15</th>\n",
       "      <td>2</td>\n",
       "      <td>8.463000e+09</td>\n",
       "      <td>-1.076000e+09</td>\n",
       "      <td>-2.060000e+08</td>\n",
       "      <td>130.0</td>\n",
       "      <td>-5.320000e+08</td>\n",
       "      <td>1.308000e+10</td>\n",
       "      <td>77.0</td>\n",
       "      <td>8.399000e+09</td>\n",
       "      <td>-434000000.0</td>\n",
       "      <td>...</td>\n",
       "      <td>59.240002</td>\n",
       "      <td>False</td>\n",
       "      <td>False</td>\n",
       "      <td>False</td>\n",
       "      <td>False</td>\n",
       "      <td>False</td>\n",
       "      <td>False</td>\n",
       "      <td>2015</td>\n",
       "      <td>12</td>\n",
       "      <td>31</td>\n",
       "    </tr>\n",
       "  </tbody>\n",
       "</table>\n",
       "<p>5 rows × 87 columns</p>\n",
       "</div>"
      ],
      "text/plain": [
       "    Ticker Symbol  Accounts Payable  Accounts Receivable  \\\n",
       "0               1      3.068000e+09        -2.220000e+08   \n",
       "1               1      4.975000e+09        -9.300000e+07   \n",
       "2               1      4.668000e+09        -1.600000e+08   \n",
       "3               1      5.102000e+09         3.520000e+08   \n",
       "15              2      8.463000e+09        -1.076000e+09   \n",
       "\n",
       "    Add'l income/expense items  After Tax ROE  Capital Expenditures  \\\n",
       "0                -1.961000e+09           23.0         -1.888000e+09   \n",
       "1                -2.723000e+09           67.0         -3.114000e+09   \n",
       "2                -1.500000e+08          143.0         -5.311000e+09   \n",
       "3                -7.080000e+08          135.0         -6.151000e+09   \n",
       "15               -2.060000e+08          130.0         -5.320000e+08   \n",
       "\n",
       "    Capital Surplus  Cash Ratio  Cash and Cash Equivalents  \\\n",
       "0      4.695000e+09        53.0               1.330000e+09   \n",
       "1      1.059200e+10        75.0               2.175000e+09   \n",
       "2      1.513500e+10        60.0               1.768000e+09   \n",
       "3      1.159100e+10        51.0               1.085000e+09   \n",
       "15     1.308000e+10        77.0               8.399000e+09   \n",
       "\n",
       "    Changes in Inventories  ...     Target  Cash Ratio_is_missing  \\\n",
       "0                      0.0  ...  13.500000                  False   \n",
       "1                      0.0  ...  25.250000                  False   \n",
       "2                      0.0  ...  53.630001                  False   \n",
       "3                      0.0  ...  42.349998                  False   \n",
       "15            -434000000.0  ...  59.240002                  False   \n",
       "\n",
       "    Current Ratio_is_missing  Quick Ratio_is_missing  For Year_is_missing  \\\n",
       "0                      False                   False                False   \n",
       "1                      False                   False                False   \n",
       "2                      False                   False                False   \n",
       "3                      False                   False                False   \n",
       "15                     False                   False                False   \n",
       "\n",
       "    Earnings Per Share_is_missing  Estimated Shares Outstanding_is_missing  \\\n",
       "0                           False                                    False   \n",
       "1                           False                                    False   \n",
       "2                           False                                    False   \n",
       "3                           False                                    False   \n",
       "15                          False                                    False   \n",
       "\n",
       "    Period Ending Year  Period Ending Month  Period Ending Day  \n",
       "0                 2012                   12                 31  \n",
       "1                 2013                   12                 31  \n",
       "2                 2014                   12                 31  \n",
       "3                 2015                   12                 31  \n",
       "15                2015                   12                 31  \n",
       "\n",
       "[5 rows x 87 columns]"
      ]
     },
     "execution_count": 79,
     "metadata": {},
     "output_type": "execute_result"
    }
   ],
   "source": [
    "fundamentals.head()"
   ]
  },
  {
   "cell_type": "markdown",
   "metadata": {},
   "source": [
    "This is great, now even our ticker symbols are converted to categorical codes which are numbers instead of symbols. Before we dive into some exploratory data analysis, let's just run a couple of final checks to ensure our data is now in a form that a machine learning model can train on."
   ]
  },
  {
   "cell_type": "code",
   "execution_count": 80,
   "metadata": {},
   "outputs": [
    {
     "data": {
      "text/plain": [
       "Ticker Symbol                              False\n",
       "Accounts Payable                           False\n",
       "Accounts Receivable                        False\n",
       "Add'l income/expense items                 False\n",
       "After Tax ROE                              False\n",
       "                                           ...  \n",
       "Earnings Per Share_is_missing              False\n",
       "Estimated Shares Outstanding_is_missing    False\n",
       "Period Ending Year                         False\n",
       "Period Ending Month                        False\n",
       "Period Ending Day                          False\n",
       "Length: 87, dtype: bool"
      ]
     },
     "execution_count": 80,
     "metadata": {},
     "output_type": "execute_result"
    }
   ],
   "source": [
    "fundamentals.isna().any()"
   ]
  },
  {
   "cell_type": "code",
   "execution_count": 81,
   "metadata": {},
   "outputs": [],
   "source": [
    "# Check if there are any non numeric columns left\n",
    "for label, content in fundamentals.items():\n",
    "    if not pd.api.types.is_numeric_dtype(content):\n",
    "        # Turn categories into numbers and add +1\n",
    "        print(label)"
   ]
  },
  {
   "cell_type": "markdown",
   "metadata": {},
   "source": [
    "So it looks like all our columns are full, and full of numeric data. This is great, as it means we have finished cleaning and organizing our dataset. Before we start training our model, it's worth exploring the data a little to get a feel for how it works, so let's do that now"
   ]
  },
  {
   "cell_type": "markdown",
   "metadata": {},
   "source": [
    "## 3.3. Data Exploration"
   ]
  },
  {
   "cell_type": "markdown",
   "metadata": {},
   "source": [
    "Now that we have our data in a pandas DataFrame, it is probably worth doing some data exploration before we dive into modeling. This will give us a feel for the data and perhaps highlight some insights into general trends within the data. This may later help us identify if our model seems to be making peculiar predictions, as well as showing any potential outliers we might need to discard. Additionally, it's always good to have some idea of how the data works and what it looks like, so that we are not simply placing blind faith in a black box regression model and hoping its results are always right. There's 84 columns, so we obviously cannot plot them all, but it's worth exploring at least some of them."
   ]
  },
  {
   "cell_type": "code",
   "execution_count": 83,
   "metadata": {},
   "outputs": [
    {
     "data": {
      "image/png": "[encoded data removed]",
      "text/plain": [
       "<Figure size 432x288 with 1 Axes>"
      ]
     },
     "metadata": {
      "needs_background": "light"
     },
     "output_type": "display_data"
    }
   ],
   "source": [
    "fig, ax = plt.subplots()\n",
    "ax.scatter(fundamentals[\"Period Ending Year\"][:1000], fundamentals[\"Target\"][:1000]);"
   ]
  },
  {
   "cell_type": "markdown",
   "metadata": {},
   "source": [
    "There doesn't seem to be a particularly strong connection between the year and stock prices - although 2016 looks bad, that could simply be no data being available for the very expensive companies that year. This might hint at little overall trend in the stock market, which would make sense - it's not as though the market inexorably rises with the passage of time, but tends to fluctuate."
   ]
  },
  {
   "cell_type": "code",
   "execution_count": 84,
   "metadata": {},
   "outputs": [
    {
     "data": {
      "image/png": "[encoded data removed]",
      "text/plain": [
       "<Figure size 432x288 with 1 Axes>"
      ]
     },
     "metadata": {
      "needs_background": "light"
     },
     "output_type": "display_data"
    }
   ],
   "source": [
    "fig, ax = plt.subplots()\n",
    "ax.scatter(fundamentals[\"Earnings Per Share\"][:1000], fundamentals[\"Target\"][:1000]);"
   ]
  },
  {
   "cell_type": "markdown",
   "metadata": {},
   "source": [
    "This cell, on the other hand, shows something of a positive correlation. It's not the strongest you'll ever see, because analysts and human evaluators of stocks are inherently subjective and varying in their assessments of the worth of a stock, but there does seem to be some sort of positive correlation - evidently, delivering higher earnings per share gives you a higher stock price, which intuitively seems to make sense. "
   ]
  },
  {
   "cell_type": "code",
   "execution_count": 85,
   "metadata": {},
   "outputs": [
    {
     "data": {
      "image/png": "[encoded data removed]",
      "text/plain": [
       "<Figure size 432x288 with 1 Axes>"
      ]
     },
     "metadata": {
      "needs_background": "light"
     },
     "output_type": "display_data"
    }
   ],
   "source": [
    "fig, ax = plt.subplots()\n",
    "ax.scatter(fundamentals[\"Capital Surplus\"][:1000], fundamentals[\"Target\"][:1000]);"
   ]
  },
  {
   "cell_type": "markdown",
   "metadata": {},
   "source": [
    "This is interesting - there appears to not be a great deal of correlation - if anything a very slight negative one - between capital surplus and price. You might be surprised that a company with a large surplus would not be highly valued, but perhaps investors are disappointed that the company is not reinvesting the money and using to drive growth. This is probably an instance where an intuitive explanation is unlikely to suffice, and we should ask a financial expert if they could shine some light on this trend."
   ]
  },
  {
   "cell_type": "code",
   "execution_count": 86,
   "metadata": {},
   "outputs": [
    {
     "data": {
      "image/png": "[encoded data removed]",
      "text/plain": [
       "<Figure size 432x288 with 1 Axes>"
      ]
     },
     "metadata": {
      "needs_background": "light"
     },
     "output_type": "display_data"
    }
   ],
   "source": [
    "fig, ax = plt.subplots()\n",
    "ax.scatter(fundamentals[\"Gross Profit\"][:1000], fundamentals[\"Target\"][:1000]);"
   ]
  },
  {
   "cell_type": "markdown",
   "metadata": {},
   "source": [
    "Again very interesting - you might intuitively expect a strong positive correlation, but in fact the data is less supportive of this claim. Again, we might want to speak to a finance professional, but this data analysis is very useful - it shows us that our assumptions about how various factors influence stock price may well be wrong."
   ]
  },
  {
   "cell_type": "code",
   "execution_count": 87,
   "metadata": {},
   "outputs": [
    {
     "data": {
      "image/png": "[encoded data removed]",
      "text/plain": [
       "<Figure size 432x288 with 1 Axes>"
      ]
     },
     "metadata": {
      "needs_background": "light"
     },
     "output_type": "display_data"
    }
   ],
   "source": [
    "fundamentals.Target.plot.hist();"
   ]
  },
  {
   "cell_type": "markdown",
   "metadata": {},
   "source": [
    "This is a rather sharp histogram - it seems that the vast majority of stocks are between 0 and 150 dollars, with extremely few above even 200. This is likely due to a number of factors - most retail investors not wanting to invest in comapanies whose shares are prohibitively expensive, and also the fact that this prices dataset actually takes stock splits into account, which lowers the prices of some of the more expensive companies when they decide to do a split."
   ]
  },
  {
   "cell_type": "markdown",
   "metadata": {},
   "source": [
    "Now that we've got some understanding of the data, let's make a slightly more complicated plot for a couple of attributes we haven't looked at yet to round off this data exploration section. "
   ]
  },
  {
   "cell_type": "code",
   "execution_count": 88,
   "metadata": {},
   "outputs": [
    {
     "data": {
      "image/png": "[encoded data removed]",
      "text/plain": [
       "<Figure size 720x576 with 2 Axes>"
      ]
     },
     "metadata": {
      "needs_background": "light"
     },
     "output_type": "display_data"
    }
   ],
   "source": [
    "# Setup plot (2 rows, 1 column)\n",
    "fig, (ax0, ax1) = plt.subplots(nrows=2, # 2 rows\n",
    "                               ncols=1, \n",
    "                               sharex=True, \n",
    "                               figsize=(10, 8))\n",
    "\n",
    "# Add data for ax0\n",
    "scatter = ax0.scatter(fundamentals[\"Net Income\"], \n",
    "                      fundamentals[\"Earnings Before Interest and Tax\"], \n",
    "                      c=fundamentals[\"Target\"])\n",
    "# Customize ax0\n",
    "ax0.set(title=\"Share Price and EBITDA\",\n",
    "        ylabel=\"Earnings Before Interest and Tax\")\n",
    "\n",
    "\n",
    "# Setup a mean line\n",
    "ax0.axhline(y=fundamentals[\"Earnings Before Interest and Tax\"].mean(), \n",
    "            color='b', \n",
    "            linestyle='--', \n",
    "            label=\"Average\")\n",
    "\n",
    "\n",
    "# Add data for ax1\n",
    "scatter = ax1.scatter(fundamentals[\"Net Income\"], \n",
    "                      fundamentals[\"Profit Margin\"], \n",
    "                      c=fundamentals[\"Target\"])\n",
    "\n",
    "# Customize ax1\n",
    "ax1.set(title=\"Share Price and Profit Margin\",\n",
    "        xlabel=\"Net Income\",\n",
    "        ylabel=\"Profit Margin\")\n",
    "\n",
    "\n",
    "# Setup a mean line\n",
    "ax1.axhline(y=fundamentals[\"Profit Margin\"].mean(), \n",
    "            color='b', \n",
    "            linestyle='--', \n",
    "            label=\"Average\")\n",
    "\n",
    "# Title the figure\n",
    "fig.suptitle('Share Price Analysis', fontsize=16, fontweight='bold');"
   ]
  },
  {
   "cell_type": "markdown",
   "metadata": {},
   "source": [
    "So what we've done above is plot the share prices of all the stocks based on their net income and either profit margin or EBITDA (Earnings before Interest, Tax, Depreciation and Amortization). It's important to note the little 1e10 at the bottom right and top left corners - these earnings are on the order of billions. This is, however, very revealing. Net Income and EBITDA seem very strongly positively correlated, which makes sense - higher income should generally mean higher earnings. This also seems reflected in the stock price. The other graph is very interesting, and reflects the diversity of companies in the dataset. In fact, profit margin seems slightly negatively correlated with net income - perhaps as the income increases, so does the size of the company, and with it operating expenses and other costs, such that even if the absolute earnings rise, the profit margin falls. "
   ]
  },
  {
   "cell_type": "markdown",
   "metadata": {},
   "source": [
    "This concludes our data exploration section - we've got a feel for the data, and it doesn't seem like there are any especially erroneous outliers - there are some rather high prices and profit margins, but the NYSE is a very diverse index, and so to remove these unusual companies would leave our model badly equipped to deal with companies that aren't run-of-the-mill, yet these are often the ones where greatest returns are to be made. Hence, I've decided to keep all the data we currently have. Now it is time for us to move onto training our models on this data."
   ]
  },
  {
   "cell_type": "markdown",
   "metadata": {},
   "source": [
    "# 4. Training a model"
   ]
  },
  {
   "cell_type": "markdown",
   "metadata": {},
   "source": [
    "## 4.1. Picking a model"
   ]
  },
  {
   "cell_type": "markdown",
   "metadata": {},
   "source": [
    "This is a regression problem, but there are many regression algorithms out there. From personal experience, the RandomForestRegressor model seems to perform well in general, so this is one of the models we will test. Bearing in mind we will also need to tune the hyperparameters of these models, it is perhaps unwise to test out too many, so let us narrow it down to three different models to test. To help decide on some ideas, I consulted the SciKit Learn documentation to find their machine learning models map - https://scikit-learn.org/stable/tutorial/machine_learning_map/index.html. Following this, I have decided to also test a Lasso and a RidgeRegression model."
   ]
  },
  {
   "cell_type": "markdown",
   "metadata": {},
   "source": [
    "## 4.2. Training a model"
   ]
  },
  {
   "cell_type": "markdown",
   "metadata": {},
   "source": [
    "We need to split our data into training, validation and test sets first -  a common split is 50:20:30, but given that our dataset isn't particularly big, only 670-ish samples might be a little too small for our model to really learn on. Hence, I've decided to go with a 60:20:20 split, to try and get a better model without having such a small test set that our results are skewed."
   ]
  },
  {
   "cell_type": "code",
   "execution_count": 90,
   "metadata": {},
   "outputs": [],
   "source": [
    "# First define X and y\n",
    "X = fundamentals.drop(\"Target\", axis=1)\n",
    "y = fundamentals[\"Target\"]\n",
    "# use train test split once to get two datasets - training and validation, and test\n",
    "X_train_and_val, X_test, y_train_and_val, y_test = train_test_split(X, y, test_size=0.2, random_state=42)\n",
    "# apply train test split again to slice up the training and validation set\n",
    "X_train, X_val, y_train, y_val = train_test_split(X_train_and_val, y_train_and_val, test_size=0.25, random_state=42)"
   ]
  },
  {
   "cell_type": "code",
   "execution_count": 91,
   "metadata": {},
   "outputs": [
    {
     "data": {
      "text/plain": [
       "((813, 86), (813,), (272, 86), (272,))"
      ]
     },
     "execution_count": 91,
     "metadata": {},
     "output_type": "execute_result"
    }
   ],
   "source": [
    "X_train.shape, y_train.shape, X_val.shape, y_val.shape"
   ]
  },
  {
   "cell_type": "markdown",
   "metadata": {},
   "source": [
    "This is great, 813 (train) + 272 (validation) + 272 (test) = 1357, which is how much data we had originally, so we are good to go"
   ]
  },
  {
   "cell_type": "markdown",
   "metadata": {},
   "source": [
    "Now let us train our models on the training data."
   ]
  },
  {
   "cell_type": "code",
   "execution_count": 126,
   "metadata": {},
   "outputs": [],
   "source": [
    "# First instantiate all our models\n",
    "rfrmodel = RandomForestRegressor(n_jobs=-1, random_state=42)\n",
    "ridgemodel = Ridge(alpha=1.0)\n",
    "lassomodel = Lasso(alpha=0.1)"
   ]
  },
  {
   "cell_type": "markdown",
   "metadata": {},
   "source": [
    "First we try the RandomForestRegressor"
   ]
  },
  {
   "cell_type": "code",
   "execution_count": 98,
   "metadata": {},
   "outputs": [
    {
     "data": {
      "text/plain": [
       "RandomForestRegressor(n_jobs=-1, random_state=42)"
      ]
     },
     "execution_count": 98,
     "metadata": {},
     "output_type": "execute_result"
    }
   ],
   "source": [
    "rfrmodel.fit(X_train, y_train)"
   ]
  },
  {
   "cell_type": "code",
   "execution_count": 99,
   "metadata": {},
   "outputs": [
    {
     "data": {
      "text/plain": [
       "{'Training RMSE': 18.18499206227095,\n",
       " 'Valid RMSE': 59.32392446279848,\n",
       " 'Training R^2': 0.950506419781094,\n",
       " 'Valid R^2': 0.6475429814645668}"
      ]
     },
     "execution_count": 99,
     "metadata": {},
     "output_type": "execute_result"
    }
   ],
   "source": [
    "show_scores(rfrmodel, X_train, X_val, y_train, y_val)"
   ]
  },
  {
   "cell_type": "markdown",
   "metadata": {},
   "source": [
    "Now time for the Ridge"
   ]
  },
  {
   "cell_type": "code",
   "execution_count": 100,
   "metadata": {},
   "outputs": [
    {
     "data": {
      "text/plain": [
       "Ridge()"
      ]
     },
     "execution_count": 100,
     "metadata": {},
     "output_type": "execute_result"
    }
   ],
   "source": [
    "ridgemodel.fit(X_train, y_train)"
   ]
  },
  {
   "cell_type": "code",
   "execution_count": 101,
   "metadata": {},
   "outputs": [
    {
     "data": {
      "text/plain": [
       "{'Training RMSE': 52.63969189956261,\n",
       " 'Valid RMSE': 291.31715313190045,\n",
       " 'Training R^2': 0.5852854082998324,\n",
       " 'Valid R^2': -7.499209434254368}"
      ]
     },
     "execution_count": 101,
     "metadata": {},
     "output_type": "execute_result"
    }
   ],
   "source": [
    "show_scores(ridgemodel, X_train, X_val, y_train, y_val)"
   ]
  },
  {
   "cell_type": "code",
   "execution_count": 127,
   "metadata": {},
   "outputs": [
    {
     "name": "stderr",
     "output_type": "stream",
     "text": [
      "C:\\Users\\cpd\\anaconda3\\lib\\site-packages\\sklearn\\linear_model\\_coordinate_descent.py:529: ConvergenceWarning: Objective did not converge. You might want to increase the number of iterations. Duality gap: 1158914.6364361385, tolerance: 543.2101881228413\n",
      "  model = cd_fast.enet_coordinate_descent(\n"
     ]
    },
    {
     "data": {
      "text/plain": [
       "Lasso(alpha=0.1)"
      ]
     },
     "execution_count": 127,
     "metadata": {},
     "output_type": "execute_result"
    }
   ],
   "source": [
    "lassomodel.fit(X_train, y_train)"
   ]
  },
  {
   "cell_type": "code",
   "execution_count": 128,
   "metadata": {},
   "outputs": [
    {
     "data": {
      "text/plain": [
       "{'Training RMSE': 53.27524054109613,\n",
       " 'Valid RMSE': 287.38466938513767,\n",
       " 'Training R^2': 0.5752107893899153,\n",
       " 'Valid R^2': -7.271296903747842}"
      ]
     },
     "execution_count": 128,
     "metadata": {},
     "output_type": "execute_result"
    }
   ],
   "source": [
    "show_scores(lassomodel, X_train, X_val, y_train, y_val)"
   ]
  },
  {
   "cell_type": "markdown",
   "metadata": {},
   "source": [
    "Although I said RMSE would be our evaluation metric, I have included R^2 as well just for visualization purposes - it's easier to interpret than a somewhat arbitrary-seeming number. In this case, it was very useful in highlighting how terribly Ridge and Lasso did - negative R^2 means they would have been better off simply taking the mean of the validation values!"
   ]
  },
  {
   "cell_type": "markdown",
   "metadata": {},
   "source": [
    "So from these initial tests, RandomForestRegressor is far in the lead. Its RMSE is much lower, and although 64.8% on the validation data isn't an amazing score, the other two models return very negative R^2 values - i.e. they are much worse than just taking the mean. It looks like we will probably focus on the Random Forest Regressor, as it outperforms the others by so much."
   ]
  },
  {
   "cell_type": "markdown",
   "metadata": {},
   "source": [
    "# 5. Improving the model"
   ]
  },
  {
   "cell_type": "markdown",
   "metadata": {},
   "source": [
    "## 5.1. Tuning Hyperparameters of RandomForestRegressor"
   ]
  },
  {
   "cell_type": "markdown",
   "metadata": {},
   "source": [
    "After doing some research into tuning RandomForestRegressors - such as at https://www.analyticsvidhya.com/blog/2015/06/tuning-random-forest-model/ - I decided to adjust the n_estimators, max_depth, min_samples_leaf and max_features hyperparameters of the model. Given that my computer has limited processing power, I will use GridSearchCV (as RandomizedSearchCV might overlook some better combinations of hyperparameters), but with a relatively limited number of hyperparameters. The other advantage of GridSearchCV (which also applies to RandomizedSearchCV) is that the testing is cross-validated, meaning we are unlikely to get anomalously accurate or inaccurate results."
   ]
  },
  {
   "cell_type": "code",
   "execution_count": 138,
   "metadata": {},
   "outputs": [],
   "source": [
    "# define a dictionary of the hyperparameters we will tune\n",
    "rfr_hyperparameters = {\n",
    "               \"n_estimators\": np.arange(10, 100, 20),\n",
    "               \"max_depth\": [None, 3, 5],\n",
    "               \"min_samples_leaf\": np.arange(1, 20, 4),\n",
    "               \"max_features\": [1, \"sqrt\", \"auto\"],\n",
    "                }"
   ]
  },
  {
   "cell_type": "markdown",
   "metadata": {},
   "source": [
    "Let's run GridSearchCV and see what hyperparameters it suggests"
   ]
  },
  {
   "cell_type": "code",
   "execution_count": 139,
   "metadata": {},
   "outputs": [
    {
     "name": "stdout",
     "output_type": "stream",
     "text": [
      "Fitting 3 folds for each of 225 candidates, totalling 675 fits\n"
     ]
    },
    {
     "name": "stderr",
     "output_type": "stream",
     "text": [
      "[Parallel(n_jobs=1)]: Using backend SequentialBackend with 1 concurrent workers.\n",
      "[Parallel(n_jobs=1)]: Done 675 out of 675 | elapsed:  2.5min finished\n"
     ]
    },
    {
     "data": {
      "text/plain": [
       "GridSearchCV(cv=3, estimator=RandomForestRegressor(n_jobs=-1, random_state=42),\n",
       "             param_grid={'max_depth': [None, 3, 5],\n",
       "                         'max_features': [1, 'sqrt', 'auto'],\n",
       "                         'min_samples_leaf': array([ 1,  5,  9, 13, 17]),\n",
       "                         'n_estimators': array([10, 30, 50, 70, 90])},\n",
       "             verbose=True)"
      ]
     },
     "execution_count": 139,
     "metadata": {},
     "output_type": "execute_result"
    }
   ],
   "source": [
    "grid_search_rfr_model = GridSearchCV(RandomForestRegressor(\n",
    "                                                    # allow model to use max processing power\n",
    "                                                    n_jobs=-1,\n",
    "                                                    # so results are replicable\n",
    "                                                    random_state=42),\n",
    "                                                    param_grid=rfr_hyperparameters,\n",
    "                                                    # cross validate\n",
    "                                                    cv=3,\n",
    "                                                    verbose=True)\n",
    "\n",
    "# Fit the RandomizedSearchCV model\n",
    "grid_search_rfr_model.fit(X_train, y_train)"
   ]
  },
  {
   "cell_type": "code",
   "execution_count": 140,
   "metadata": {},
   "outputs": [
    {
     "data": {
      "text/plain": [
       "{'max_depth': None,\n",
       " 'max_features': 'auto',\n",
       " 'min_samples_leaf': 1,\n",
       " 'n_estimators': 50}"
      ]
     },
     "execution_count": 140,
     "metadata": {},
     "output_type": "execute_result"
    }
   ],
   "source": [
    "grid_search_rfr_model.best_params_"
   ]
  },
  {
   "cell_type": "markdown",
   "metadata": {},
   "source": [
    "So now we have our grid search results, let's test these new hyperparameters and see if they improve our model's performance."
   ]
  },
  {
   "cell_type": "code",
   "execution_count": 141,
   "metadata": {},
   "outputs": [
    {
     "data": {
      "text/plain": [
       "{'Training RMSE': 18.79139896343244,\n",
       " 'Valid RMSE': 57.91851649432757,\n",
       " 'Training R^2': 0.947150502134465,\n",
       " 'Valid R^2': 0.6640448711688354}"
      ]
     },
     "execution_count": 141,
     "metadata": {},
     "output_type": "execute_result"
    }
   ],
   "source": [
    "show_scores(grid_search_rfr_model, X_train, X_val, y_train, y_val)"
   ]
  },
  {
   "cell_type": "markdown",
   "metadata": {},
   "source": [
    "So this has slightly improved our model - our valid RMSE is down from 59.3 to 57.9, and our valid R^2 has increased from 0.648 to 0.664. This is still not amazing, however, so let's try again with more hyperparameter options, and see if we can get a better result."
   ]
  },
  {
   "cell_type": "code",
   "execution_count": 142,
   "metadata": {},
   "outputs": [],
   "source": [
    "big_hyperparameter_grid = {\n",
    "               \"n_estimators\": np.arange(10, 100, 10),\n",
    "               \"max_depth\": [None, 3, 5, 10],\n",
    "               \"min_samples_leaf\": np.arange(1, 20, 4),\n",
    "               \"max_features\": [1, \"sqrt\", \"auto\"],\n",
    "}"
   ]
  },
  {
   "cell_type": "code",
   "execution_count": 143,
   "metadata": {},
   "outputs": [
    {
     "name": "stdout",
     "output_type": "stream",
     "text": [
      "Fitting 3 folds for each of 540 candidates, totalling 1620 fits\n"
     ]
    },
    {
     "name": "stderr",
     "output_type": "stream",
     "text": [
      "[Parallel(n_jobs=1)]: Using backend SequentialBackend with 1 concurrent workers.\n",
      "[Parallel(n_jobs=1)]: Done 1620 out of 1620 | elapsed:  6.3min finished\n"
     ]
    },
    {
     "data": {
      "text/plain": [
       "{'Training RMSE': 18.791398963432435,\n",
       " 'Valid RMSE': 57.91851649432757,\n",
       " 'Training R^2': 0.947150502134465,\n",
       " 'Valid R^2': 0.6640448711688354}"
      ]
     },
     "execution_count": 143,
     "metadata": {},
     "output_type": "execute_result"
    }
   ],
   "source": [
    "big_grid_search_rfr_model = GridSearchCV(RandomForestRegressor(\n",
    "                                                    # allow model to use max processing power\n",
    "                                                    n_jobs=-1,\n",
    "                                                    # so results are replicable\n",
    "                                                    random_state=42),\n",
    "                                                    param_grid=big_hyperparameter_grid,\n",
    "                                                    # cross validate\n",
    "                                                    cv=3,\n",
    "                                                    verbose=True)\n",
    "\n",
    "# Fit the RandomizedSearchCV model\n",
    "big_grid_search_rfr_model.fit(X_train, y_train)\n",
    "show_scores(big_grid_search_rfr_model, X_train, X_val, y_train, y_val)"
   ]
  },
  {
   "cell_type": "code",
   "execution_count": 144,
   "metadata": {},
   "outputs": [
    {
     "data": {
      "text/plain": [
       "{'max_depth': None,\n",
       " 'max_features': 'auto',\n",
       " 'min_samples_leaf': 1,\n",
       " 'n_estimators': 50}"
      ]
     },
     "execution_count": 144,
     "metadata": {},
     "output_type": "execute_result"
    }
   ],
   "source": [
    "big_grid_search_rfr_model.best_params_"
   ]
  },
  {
   "cell_type": "markdown",
   "metadata": {},
   "source": [
    "So it turns out we had the best hyperparameters all along anyway. We could keep experimenting, but we only have so much processing power, and this could start to take a very long time to run each experiment. Hence, let's take a look at the other models."
   ]
  },
  {
   "cell_type": "code",
   "execution_count": 168,
   "metadata": {},
   "outputs": [
    {
     "data": {
      "text/plain": [
       "RandomForestRegressor(n_estimators=50)"
      ]
     },
     "execution_count": 168,
     "metadata": {},
     "output_type": "execute_result"
    }
   ],
   "source": [
    "best_model = RandomForestRegressor(max_depth=None, max_features=\"auto\", min_samples_leaf=1, n_estimators=50)\n",
    "best_model.fit(X_train, y_train)"
   ]
  },
  {
   "cell_type": "markdown",
   "metadata": {},
   "source": [
    "## 5.2. Tuning Hyperparameters of Lasso"
   ]
  },
  {
   "cell_type": "markdown",
   "metadata": {},
   "source": [
    "After doing similar research - https://scikit-learn.org/stable/modules/generated/sklearn.linear_model.Lasso.html - I decided to adjust the alpha, max_iter and tol hyperparameters of this model. We will again be using GridSearchCV, to ensure we don't miss an ideal combination of hyperparameters"
   ]
  },
  {
   "cell_type": "code",
   "execution_count": 151,
   "metadata": {},
   "outputs": [],
   "source": [
    "lasso_hyperparameters_grid = {\n",
    "               \"alpha\": np.arange(0.5, 1.5, 0.1),\n",
    "               \"max_iter\": np.arange(1000, 50000, 5000),\n",
    "               \"tol\": np.logspace(0.0001, 0.1, 50)\n",
    "}"
   ]
  },
  {
   "cell_type": "code",
   "execution_count": 150,
   "metadata": {},
   "outputs": [
    {
     "name": "stdout",
     "output_type": "stream",
     "text": [
      "Fitting 3 folds for each of 5000 candidates, totalling 15000 fits\n"
     ]
    },
    {
     "name": "stderr",
     "output_type": "stream",
     "text": [
      "[Parallel(n_jobs=1)]: Using backend SequentialBackend with 1 concurrent workers.\n",
      "[Parallel(n_jobs=1)]: Done 15000 out of 15000 | elapsed:  6.2min finished\n"
     ]
    },
    {
     "data": {
      "text/plain": [
       "{'Training RMSE': 67.19846256317236,\n",
       " 'Valid RMSE': 226.38200451019594,\n",
       " 'Training R^2': 0.3241640140824903,\n",
       " 'Valid R^2': -4.132514900256035}"
      ]
     },
     "execution_count": 150,
     "metadata": {},
     "output_type": "execute_result"
    }
   ],
   "source": [
    "grid_search_lasso_model = GridSearchCV(Lasso(\n",
    "                                            # so results are replicable\n",
    "                                            random_state=42),\n",
    "                                            param_grid=lasso_hyperparameters_grid,\n",
    "                                            # cross validate\n",
    "                                            cv=3,\n",
    "                                            verbose=True)\n",
    "\n",
    "# Fit the RandomizedSearchCV model\n",
    "grid_search_lasso_model.fit(X_train, y_train)\n",
    "show_scores(grid_search_lasso_model, X_train, X_val, y_train, y_val)"
   ]
  },
  {
   "cell_type": "markdown",
   "metadata": {},
   "source": [
    "Unfortunately, despite trying many different hyperparameters, Lasso regression is still performing extremely poorly - its valid RMSE is nearly 4x as large as that of the Random Forest. It seems like this model is unlikely to be good enough to make valuable and consistent predictions, so we will be abandoning it from now on."
   ]
  },
  {
   "cell_type": "markdown",
   "metadata": {},
   "source": [
    "## 5.3. Tuning hyperparameters of RidgeRegression"
   ]
  },
  {
   "cell_type": "markdown",
   "metadata": {},
   "source": [
    "Having researched the RidgeRegression hyperparameters at https://scikit-learn.org/stable/modules/generated/sklearn.linear_model.Ridge.html, I realized that Ridge Regression and Lasso are somewhat similar, as are their hyperparameters. Given that the Ridge and Lasso performed similarly badly on the initial data, and even after tuning Lasso's hyperparameters it was still far worse than the Random Forest Regressor, I decided to abandon the Ridge and Lasso models, and instead test the Random Forest Regressor."
   ]
  },
  {
   "cell_type": "markdown",
   "metadata": {},
   "source": [
    "# 6. Evaluating the models"
   ]
  },
  {
   "cell_type": "markdown",
   "metadata": {},
   "source": [
    "## 6.1. What metrics to use?"
   ]
  },
  {
   "cell_type": "markdown",
   "metadata": {},
   "source": [
    "Investigating regression metrics - https://aiaspirant.com/regression-evaluation-metrics/ and https://towardsdatascience.com/what-are-the-best-metrics-to-evaluate-your-regression-model-418ca481755b - showed me that there are many different metrics for judging the success of a model. Although R^2 error is commonly used, the articles I read seemed to suggest that the issue with it is that more independent variables taken into account can reduce your R^2 error, even if those variables turn out to be completely irrelevant to the result. We have quite a lot of independent variables here, and so R^2 might give spuriously good results. Hence, I have decided to use Root Mean Squared Error as my evaluation metric for this project - I will be trying to minimize it."
   ]
  },
  {
   "cell_type": "markdown",
   "metadata": {},
   "source": [
    "## 6.2. Testing the various models based on this evaluation metric"
   ]
  },
  {
   "cell_type": "markdown",
   "metadata": {},
   "source": [
    "Now that we have tuned our models into (hopefully) their ideal possible forms for this project, let's let each of them try and predict on the test data, and then see how well they did according to our validation metric of Root Mean Squared Error (and take a look at the R^2 for some additional context)"
   ]
  },
  {
   "cell_type": "code",
   "execution_count": 169,
   "metadata": {},
   "outputs": [],
   "source": [
    "test_predictions = best_model.predict(X_test)"
   ]
  },
  {
   "cell_type": "code",
   "execution_count": 170,
   "metadata": {},
   "outputs": [
    {
     "data": {
      "text/plain": [
       "37.08519571218125"
      ]
     },
     "execution_count": 170,
     "metadata": {},
     "output_type": "execute_result"
    }
   ],
   "source": [
    "mean_squared_error(test_predictions, y_test, squared=False)"
   ]
  },
  {
   "cell_type": "code",
   "execution_count": 171,
   "metadata": {},
   "outputs": [
    {
     "data": {
      "text/plain": [
       "0.20173014896732921"
      ]
     },
     "execution_count": 171,
     "metadata": {},
     "output_type": "execute_result"
    }
   ],
   "source": [
    "r2_score(test_predictions, y_test)"
   ]
  },
  {
   "cell_type": "markdown",
   "metadata": {},
   "source": [
    "# 7. Feature Importance"
   ]
  },
  {
   "cell_type": "markdown",
   "metadata": {},
   "source": [
    "We have now established that the Random Forest Regression model worked the best, and should probably be used for our future predictions. However, it is probably useful to know which of the features mattered most in this data, so that for future projects of a similar nature we can ensure that we get the best quality data on those features, and perhaps ignore some of the less relevant features to save time and processing power, and prevent our model finding spurious patterns in data that was actually irrelevant."
   ]
  },
  {
   "cell_type": "code",
   "execution_count": 172,
   "metadata": {},
   "outputs": [
    {
     "data": {
      "image/png": "[encoded data removed]",
      "text/plain": [
       "<Figure size 432x288 with 1 Axes>"
      ]
     },
     "metadata": {
      "needs_background": "light"
     },
     "output_type": "display_data"
    }
   ],
   "source": [
    "plot_features(X_train.columns, best_model.feature_importances_)"
   ]
  },
  {
   "cell_type": "markdown",
   "metadata": {},
   "source": [
    "So this is very interesting to observe. Earnings Per Share is an important feature, but I did not expect it to be far and away so much more significant than everything else. It is interesting that things like profit margin and gross profit feature nowhere on this list, whereas things that might have seemed less important like the estimated shares outstanding are actually incredibly significant. This is valuable information for a financial analyst, and important to bear in mind for future projects - perhaps these attributes of the data should be given greater weightage next time."
   ]
  },
  {
   "cell_type": "markdown",
   "metadata": {},
   "source": [
    "# 8. Conclusion"
   ]
  },
  {
   "cell_type": "markdown",
   "metadata": {},
   "source": [
    "So, over the course of this project, we investigated three different models for predicting stock price based on fundamental information about the stock. It transpired in the end that Ridge Regression and Lasso Regression did not work very well on this problem, and were far outcompeted by the Random Forest Regressor. Even this model was far from perfect - on average, it was about 37 dollars off the true price of the stock, which, in a market where most of the stocks are between 1 and 200 dollars, is rather high. However, we were using Root *Mean* Squared Error, so it is plausible that the model had a larger absolute error for some expensive stocks, and this distorted the average error as well. Overall, this was reasonably successful, but there are several steps we could take to improve this predictor."
   ]
  },
  {
   "cell_type": "markdown",
   "metadata": {},
   "source": [
    "**1. Get more data:** At the end of the day, the model was only trained on about 800 samples, which, by the standards of machine learning models, is on the small side. Especially for a commercial operation like an investment bank, it is likely there would be far more samples for our model to train on, which would hopefully significantly increase its accuracy and reduce its error."
   ]
  },
  {
   "cell_type": "markdown",
   "metadata": {},
   "source": [
    "**2. Tune more hyperparameters:** I was running this project on my own computer, whose processing capabilities are fairly limited. If we wanted to make this a properly deployable model, we could perhaps enlist the use of a much more powerful computer, perhaps one with a GPU, or use a Google Colab notebook. These would allow us to perform significantly more calculations, and tune many more hyperparameter combinations, hopefully ultimately resulting in a better model."
   ]
  },
  {
   "cell_type": "markdown",
   "metadata": {},
   "source": [
    "**3. Try out some other models:** In this project, we only tested 3 models, all of which are on the Sci Kit Learn Map. However, there are dozens, if not hundreds, of different regression models out there, and very probably some that would outperform our Random Forest on this specific problem. This would be worth investigating with the help of a finance professional, whose background would enable them to better advise us on what types of models tend to work better on financial data, or whether there are certain data parameters we should have told our model to focus on more."
   ]
  },
  {
   "cell_type": "markdown",
   "metadata": {},
   "source": [
    "**4. Try to combine our model with others:** We have built one model here, but there are many approaches to analyzing stocks. It would definitely be worth trying to include elements of other analysis in our model. For example, we ignored a lot of the prices dataset, choosing only to pick the prices on the specific dates that mattered to us. However, we could have included the rest of the data too, so that our model could hopefully learn about how past prices tend to influence future ones, and how markets can move in trends and cycles. This would likely further improve our model."
   ]
  },
  {
   "cell_type": "markdown",
   "metadata": {},
   "source": [
    "Overall, however, this was a relatively successful project. We instantiated and tested multiple models, and came up with a model that functions somewhat well. Given the sizable constraints on processing power and training data, the model performed well, and it is likely that the slightly high RMSE is due to the errors on predicting expensive stocks skewing the average. The other thing that is important to remember is simply how unpredictable the stock market is. Even with access to nearly unlimited computing power, vast quantities of data, deep knowledge about the field and much more advanced algorithms and models, the professionals of the finance industry still have not learnt to \"beat the market\". In fact, they quite frequently get it wrong, spectacularly so on occasion. In light of this, despite its clear flaws, our model can be said to have acquitted itself well, and so I feel this project was a success."
   ]
  }
 ],
 "metadata": {
  "kernelspec": {
   "display_name": "Python 3",
   "language": "python",
   "name": "python3"
  },
  "language_info": {
   "codemirror_mode": {
    "name": "ipython",
    "version": 3
   },
   "file_extension": ".py",
   "mimetype": "text/x-python",
   "name": "python",
   "nbconvert_exporter": "python",
   "pygments_lexer": "ipython3",
   "version": "3.8.5"
  }
 },
 "nbformat": 4,
 "nbformat_minor": 4
}
